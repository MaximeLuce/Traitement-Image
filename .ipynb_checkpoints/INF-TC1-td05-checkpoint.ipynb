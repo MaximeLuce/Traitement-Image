{
 "cells": [
  {
   "cell_type": "markdown",
   "id": "751c51f9",
   "metadata": {},
   "source": [
    "NAME:"
   ]
  },
  {
   "cell_type": "markdown",
   "id": "b97bad7e-82ff-44a7-9779-13c139085623",
   "metadata": {},
   "source": [
    "# INF TC1 - TD5 (2h + 2h AUTONOMIE) - Devoir à rendre #1"
   ]
  },
  {
   "cell_type": "markdown",
   "id": "1bb26026-8560-4a3c-90e6-2cfd7a49320a",
   "metadata": {},
   "source": [
    "---"
   ]
  },
  {
   "cell_type": "markdown",
   "id": "dd8d4905-55f9-4957-8008-a963cc6de061",
   "metadata": {},
   "source": [
    "Vous serez évalué sur le rendu de ce TD qui sera à déposer sur Moodle **deux (2) semaines** après la séance d'autonomie #1. Le rendu sera à réaliser sous forme de **notebook** qui contient votre code et images."
   ]
  },
  {
   "cell_type": "markdown",
   "id": "99ee8fad-7f32-4fe2-85d3-3b8da49f317f",
   "metadata": {},
   "source": [
    "<details style=\"border: 1px\">\n",
    "<summary> MODALITES DE RENDU</summary>\n",
    "\n",
    "### Comment rendre son devoir ?\n",
    "\n",
    "Vous serez évalué sur le rendu de ce TD qui sera à déposer sur Moodle **deux (2) semaines** après les séances d'autonomie et de TD. Vous devrez créer une archive (zip, rar, etc.) nomée `nom1-nom2-inf-tc1-td5.zip` qui contiendra tous les éléments de votre rendu (rapport en notebook, code, images de test). Vous pouvez rendre ce rapport seul ou en binôme. Le rendu du TD doit contenir a minima :\n",
    "\n",
    "1. Toutes les étapes jusqu'à la 6ème doivent avoir été abordées\n",
    "2. Justifications, illustrations et tests sur plusieurs images\n",
    "\n",
    "**A garder en tête :**\n",
    "\n",
    "- Un code fonctionnel et les tests appropriés devront être fournis dans l'archive qui doit être autonome (le correcteur ne doit pas avoir à rajouter d'image ou de fichier supplémentaire)\n",
    "\n",
    "- Vous fournirez les images de test et leurs résultats; évitez cependant de prendre des tailles d'images trop importantes.\n",
    "\n",
    "- Le rapport **devra être au format Notebook Jupyter** et comprendre :\n",
    "\n",
    "  - Le détail des étapes que vous avez suivies\n",
    "\n",
    "  - La description de parties de code difficiles\n",
    "\n",
    "  - Tout souci ou point bloquant dans votre code\n",
    "\n",
    "  - Les graphiques et diagrammes nécessaires\n",
    "\n",
    "  - Des analyses et discussions en lien avec votre approche\n",
    "\n",
    "  - Des exemples simples mais aussi difficiles\n",
    "\n",
    "**Tout travail supplémentaire (méthode originale, optimisation poussée) fera l'objet de points en bonus.**\n",
    "\n",
    "    \n",
    "    \n",
    "*Voici une suggestion afin de se faire un ordre d'idée*\n",
    "\n",
    "\n",
    "Un groupe avec une note entre 10 et 12 :\n",
    "\n",
    "- Les étapes suivies\n",
    "- Un code fonctionnel et les méthodes basiques\n",
    "- Un rapport succint\n",
    "- Un code certes fonctionnel mais peu commenté\n",
    "- Les exemples d'images fournies\n",
    "\n",
    "Un groupe entre 12 et 14 a en plus proposé :\n",
    "\n",
    "- Des structures de données avancées (Ensembles, Files, etc)\n",
    "- Une justification de chaque étape\n",
    "- Une méthode un petit peu plus poussée\n",
    "\n",
    "Un groupe entre 14 et 16 a en plus proposé :\n",
    "\n",
    "- Une méthode originale (K-Means, etc)\n",
    "- Une démarche expérimentale très détaillée sur les optimisations\n",
    "- Des tests plutôt originaux\n",
    "\n",
    "Un groupe au-dessus de 16 comporte une ou plusieurs parties exceptionnelles :\n",
    "\n",
    "- Rapport très détaillé et exemplaire sur le fond comme sur la forme\n",
    "- Une démarche expérimentale très détaillée sur les optimisations\n",
    "- Code et tests\n",
    "\n",
    "\n",
    "\n",
    "</details>"
   ]
  },
  {
   "cell_type": "markdown",
   "id": "d48155b2-8db8-4557-a66b-363351712560",
   "metadata": {},
   "source": [
    "## Objectif du devoir\n",
    "\n",
    "Le but de ce devoir est de **déterminer automatiquement une palette de couleurs optimale** pour une image donnée. Cette palette devra valider les contraintes suivantes : \n",
    "\n",
    "1. utiliser moins de couleurs que le nombre disponible dans l'image donnée;\n",
    "2. être la plus représentative possible des couleurs de l'image donnée. \n",
    "\n",
    "Comme nous l'avons vu dans le TD 4, les couleurs peuvent être encodée par composantes rouge, verte et bleue (soit 256 valeurs possibles par composante, autrement dit sur 8 bits) ainsi potentiellement utiliser $256 \\times 256 \\times 256 = 16 777 216$ couleurs. En réalité, beaucoup moins sont nécessaires et surtout perceptibles par l'humain. Réduire le nombre de couleurs ou réaliser une \"_quantification de couleurs_\" est une tâche fréquente et c'est une fonctionnalité classique des outils éditeurs d'images (Photoshop, Gimp, etc.) implémentée aussi dans le module Pillow de Python. A noter que cette réduction s'effectue avec perte de couleurs et doit être réalisée avec les bons paramètres (nombre et choix des couleurs) ce qui est votre objectif. \n",
    "\n",
    "La figure ci-dessous illustre le problème à résoudre : étant donnée une image en entrée, proposer une liste de couleurs (que l'on appellera la palette), afin de re-colorier une image en sortie.\n",
    "\n",
    "<div style=\"text-align:center;\">\n",
    "<table>\n",
    "  <tr>\n",
    "    <td>\n",
    "      <img src=\"figures/color-rainbow.png\" alt=\"Image originale\" style=\"height:5cm;\">\n",
    "      <p>Image donnée</p>\n",
    "    </td>\n",
    "    <td>\n",
    "      <img src=\"figures/rainbow-palette-8.png\" alt=\"Palette de 8 couleurs représentatives\" style=\"height:5cm;\">\n",
    "      <p>Palette de 8 couleurs représentatives</p>\n",
    "    </td>\n",
    "    <td>\n",
    "      <img src=\"figures/rainbow-recoloriee.png\" alt=\"Image originale recoloriée avec la palette\" style=\"height:5cm;\">\n",
    "      <p>Image donnée recoloriée avec la palette</p>\n",
    "    </td>\n",
    "  </tr>\n",
    "</table>\n",
    "</div>\n"
   ]
  },
  {
   "cell_type": "markdown",
   "id": "fd464e65-adfe-4e11-bf87-f12c513fbaea",
   "metadata": {},
   "source": [
    "## Étapes de travail\n",
    "\n",
    "Voici des étapes de travail suggérées :\n",
    "\n",
    "1. Prenez une image de votre choix (pas trop grande) en la chargeant avec PIL. Lister les couleurs présentes, identifier celles qui sont uniques et leur fréquence.\n",
    "\n",
    "2. Proposez une méthode (naïve pour commencer) de choix d'une palette de $k$ couleurs. Affichez là sous forme d'image (exemple de d'image au milieu de la figure du dessus) avec une nouvelle image PIL. Utilisez également des images simples où le résultat attendu est connu comme pour les images ci-dessous :\n",
    "\n",
    "  <div style=\"text-align:center;\">\n",
    "    <table>\n",
    "      <tr>\n",
    "        <td>\n",
    "          <img src=\"figures/1-color-back.png\" alt=\"1 couleur noir\" style=\"width:3cm;\">\n",
    "          <p>1 couleur noir</p>\n",
    "        </td>\n",
    "        <td>\n",
    "          <img src=\"figures/4-color.png\" alt=\"4 couleurs\" style=\"width:3cm;\">\n",
    "          <p>4 couleurs</p>\n",
    "        </td>\n",
    "      </tr>\n",
    "    </table>\n",
    "  </div>\n",
    " \n",
    "3. Re-coloriez une image avec une palette de $k$ couleurs, et affichez le résultat sous forme d'image PIL. Pour re-colorier chaque pixel, prendre la couleur la plus proche dans la palette en utilisant une fonction de distance (Euclidienne par exemple..).\n",
    "\n",
    "4. Proposez une méthode de validation de votre approche. Par exemple affichez la différence entre l'image originale et celle re-coloriée. Calculez un score global d'erreur.\n",
    "\n",
    "5. Améliorez le choix des $k$ couleurs afin de minimiser l'erreur entre l'image originale et re-coloriée. Une piste possible est de trier les couleurs dans une liste, diviser cette liste en $k$ intervals de couleurs et prendre la couleur du milieu de chaque interval. D'autres méthodes plus avancées peuvent être explorées !\n",
    "\n",
    "6. Testez votre palette sur plusieurs images de votre choix ou générées automatiquement avec un nombre et une distribution connue de couleurs. Comparer les performances de vos techniques avec d'autres méthodes (cette fois vous pouvez utiliser un éditeur de texte ou la fonction _quantize_ de PIL [(doc)](https://pillow.readthedocs.io/en/stable/reference/Image.html).\n",
    "\n",
    "7. Utilisez un pré-traitement des images (flou gaussien, etc) afin de lisser les couleurs. Cela est une piste afin de choisir de meilleurs couleurs représentatives. Proposez une comparaison de cette amélioration (ou de déterioration éventuelle) avec les autres méthodes.\n",
    "\n",
    "8. Proposez une méthode d'amélioration de calcul de la distance entre deux couleurs, vous pouvez vous baser sur d'autres espaces de couleur [(doc)](https://fr.wikipedia.org/wiki/Espace_de_couleur). Cette partie est difficile, les espaces de couleurs possibles sont complexes à comprendre.\n",
    "\n",
    "9. Optimisez les étapes précédentes (complexité, espace nécessaire, structures de données, etc.) et justifiez vos choix.\n",
    "\n",
    "\n",
    "### Bonus\n",
    "\n",
    "10. Créez une palette représentative à partir de plusieurs images."
   ]
  },
  {
   "cell_type": "code",
   "execution_count": 1,
   "id": "84af592a-af3a-4f29-8d8a-ee167318d098",
   "metadata": {},
   "outputs": [
    {
     "name": "stdout",
     "output_type": "stream",
     "text": [
      "10.4.0\n"
     ]
    },
    {
     "data": {
      "image/jpeg": "[encoded data removed]",
      "image/png": "[encoded data removed]",
      "text/plain": [
       "<PIL.Image.Image image mode=RGB size=256x256>"
      ]
     },
     "metadata": {},
     "output_type": "display_data"
    }
   ],
   "source": [
    "from PIL import Image\n",
    "from IPython.display import display\n",
    "\n",
    "print(Image.__version__)\n",
    "\n",
    "im = Image.open(\"test.PNG\")\n",
    "im = im.convert(\"RGB\")  # important pour bien avoir 3 couleurs\n",
    "px = im.load()  \n",
    "\n",
    "W, H = im.size          # taille de l'image\n",
    "\n",
    "im2 = Image.new('RGB', (W, H)) \n",
    "px2 = im2.load()\n",
    "\n",
    "# test de manon\n",
    "\n",
    "# modifie rajouter un truc\n",
    "\n",
    "# test de maxime qui marche\n",
    "\n",
    "#im = im.resize((W//2, H//2))\n",
    "\n",
    "\n",
    "display(im)"
   ]
  },
  {
   "cell_type": "code",
   "execution_count": 9,
   "id": "da24f862-27ec-4a47-8fd3-dc5e565a8653",
   "metadata": {},
   "outputs": [],
   "source": [
    "def trouver_couleur(px):\n",
    "    liste_couleur=[]\n",
    "    for i in range(W):\n",
    "        for j in range(H):\n",
    "            liste_couleur.append(px[i,j])\n",
    "    return liste_couleur"
   ]
  },
  {
   "cell_type": "code",
   "execution_count": 10,
   "id": "bde01641-918a-4f1f-a678-5562797e31bd",
   "metadata": {},
   "outputs": [
    {
     "data": {
      "text/plain": [
       "65536"
      ]
     },
     "execution_count": 10,
     "metadata": {},
     "output_type": "execute_result"
    }
   ],
   "source": [
    "len(trouver_couleur(px))\n",
    "#ajouter des tests sur des imgs simples"
   ]
  },
  {
   "cell_type": "code",
   "execution_count": 11,
   "id": "59aec805-f6a0-4f16-812b-111e0a8d8f42",
   "metadata": {},
   "outputs": [],
   "source": [
    "def analyse_frequence_couleur(px):\n",
    "    liste_couleur = trouver_couleur(px)\n",
    "    correspondance = {}\n",
    "    for c in liste_couleur:\n",
    "        if c in correspondance:\n",
    "            correspondance[c] += 1\n",
    "        else:\n",
    "            correspondance[c] = 1\n",
    "\n",
    "    correspondance = dict(sorted(correspondance.items(), key=lambda x: x[1], reverse=True))\n",
    "    return correspondance\n"
   ]
  },
  {
   "cell_type": "code",
   "execution_count": 12,
   "id": "3568eb92-8cfc-4274-a568-ea7d3efd5d40",
   "metadata": {},
   "outputs": [],
   "source": [
    "#analyse_frequence_couleur(px)"
   ]
  },
  {
   "cell_type": "code",
   "execution_count": 13,
   "id": "4e3cd2de-b162-4606-980d-ba6e309c3c34",
   "metadata": {},
   "outputs": [],
   "source": [
    "def methode_naive(k,px):\n",
    "    palette = []\n",
    "    cor = analyse_frequence_couleur(px)\n",
    "\n",
    "    for c in cor:\n",
    "        if len(palette) != k:\n",
    "            palette.append(c)\n",
    "    return palette\n",
    "\n",
    "\n",
    "def methode_naive_uniforme(k,px):\n",
    "    palette = []\n",
    "    for i in range(k):\n",
    "        t = i / (k - 1) if k > 1 else 0  # Normalisation entre 0 et 1\n",
    "        r = int(255 * (1 - t))  # Va de 255 à 0\n",
    "        g = int(255 * (t if i % 2 == 0 else 1 - t))  # Alterne\n",
    "        b = int(255 * t)  # Va de 0 à 255\n",
    "        palette.append((r, g, b))\n",
    "    return palette"
   ]
  },
  {
   "cell_type": "code",
   "execution_count": 14,
   "id": "67634c7d-c014-4bb6-bc6f-9a36be7a8f9d",
   "metadata": {},
   "outputs": [
    {
     "data": {
      "text/plain": [
       "[(255, 0, 0), (0, 255, 0), (255, 255, 0), (0, 255, 255)]"
      ]
     },
     "execution_count": 14,
     "metadata": {},
     "output_type": "execute_result"
    }
   ],
   "source": [
    "methode_naive(4,px)"
   ]
  },
  {
   "cell_type": "code",
   "execution_count": 15,
   "id": "fd3f8014-a9f4-4835-a835-984761acf425",
   "metadata": {},
   "outputs": [
    {
     "data": {
      "image/jpeg": "[encoded data removed]",
      "image/png": "[encoded data removed]",
      "text/plain": [
       "<PIL.Image.Image image mode=RGB size=500x50>"
      ]
     },
     "metadata": {},
     "output_type": "display_data"
    },
    {
     "data": {
      "image/jpeg": "[encoded data removed]",
      "image/png": "[encoded data removed]",
      "text/plain": [
       "<PIL.Image.Image image mode=RGB size=256x256>"
      ]
     },
     "metadata": {},
     "output_type": "display_data"
    }
   ],
   "source": [
    "def setPixel(x: int, y:int, color: tuple, px) -> None:\n",
    "    \"\"\"Set the color of a pixel\n",
    "    Args:\n",
    "        x (int): pixel x coordinate\n",
    "        y (int): pixel y coordinate\n",
    "        color (tuple): color to set\n",
    "        px (PixelAccess): image pixel access\n",
    "    \"\"\"\n",
    "    r, g, b = color\n",
    "    px[x, y] = r, g, b    # on change un pixel\n",
    "\n",
    "from math import sqrt\n",
    "\n",
    "def distance(c1: tuple, c2: tuple) -> float:\n",
    "    \"\"\"Compute the distance between two colors\n",
    "    Args:\n",
    "        c1 (tuple): first color\n",
    "        c2 (tuple): second color\n",
    "    Returns:\n",
    "        float: distance between the two colors\n",
    "    \"\"\"\n",
    "    (r1,g1,b1) = c1\n",
    "    (r2,g2,b2) = c2\n",
    "    return sqrt((r2-r1)**2 + (g2-g1)**2 + (b2-b1)**2)\n",
    "    \n",
    "def choix_couleur(palette,c):\n",
    "    \"\"\"\n",
    "    Trouve la couleur la plus proche dans la palette par rapport à la couleur donnée.\n",
    "    Args:\n",
    "        palette (list of tuple): Liste des couleurs disponibles.\n",
    "        c (tuple): Couleur cible.\n",
    "    Returns:\n",
    "        tuple: La couleur la plus proche dans la palette.\n",
    "    \"\"\"\n",
    "    couleur_proche = palette[0]\n",
    "    mini = distance(c, couleur_proche)\n",
    "\n",
    "    for couleur in palette[1:]:\n",
    "        d = distance(c, couleur)\n",
    "        if d < mini:  \n",
    "            mini = d\n",
    "            couleur_proche = couleur  # Mettre à jour avec la meilleure couleur trouvée\n",
    "\n",
    "    return couleur_proche\n",
    "\n",
    "def coloriage(palette,px,px2):\n",
    "    for i in range(W):\n",
    "        for j in range(H):\n",
    "            c = px[i,j]\n",
    "            setPixel(i,j,choix_couleur(palette,c),px2)\n",
    "    return px\n",
    "\n",
    "def afficher_palette(palette, largeur=500, hauteur=50):\n",
    "    k = len(palette)\n",
    "    palette_img = Image.new(\"RGB\", (largeur, hauteur))\n",
    "\n",
    "    # Remplissage de l'image avec les couleurs\n",
    "    pixel_data = palette_img.load()\n",
    "    segment_width = largeur // k\n",
    "\n",
    "    for i, palette in enumerate(palette):\n",
    "        for x in range(i * segment_width, (i + 1) * segment_width):\n",
    "            for y in range(hauteur):\n",
    "                pixel_data[x, y] = palette\n",
    "\n",
    "    display(palette_img)\n",
    "    \n",
    "px2 = im2.load()\n",
    "\n",
    "\n",
    "palette=methode_naive(4,px)\n",
    "coloriage(palette,px,px2)\n",
    "afficher_palette(palette)\n",
    "\n",
    "display(im2)"
   ]
  },
  {
   "cell_type": "code",
   "execution_count": 16,
   "id": "c29b0260-41f6-4357-99d6-7ad650015692",
   "metadata": {},
   "outputs": [],
   "source": [
    "def validation(px,px2):\n",
    "    err=0\n",
    "    for i in range(W):\n",
    "        for j in range(H):\n",
    "            err += distance(px[i,j],px2[i,j])\n",
    "    return err"
   ]
  },
  {
   "cell_type": "code",
   "execution_count": 17,
   "id": "431d4fb4-17de-4700-ac96-eff79dd50367",
   "metadata": {},
   "outputs": [
    {
     "data": {
      "text/plain": [
       "0.0"
      ]
     },
     "execution_count": 17,
     "metadata": {},
     "output_type": "execute_result"
    }
   ],
   "source": [
    "validation(px,px2)"
   ]
  },
  {
   "cell_type": "code",
   "execution_count": null,
   "id": "bf19e0de-663a-4451-82ea-0261e95bde05",
   "metadata": {},
   "outputs": [],
   "source": [
    "def rgb_to_hsv_pillow(rgb):\n",
    "    \"\"\"Convertit une couleur RGB (tuple 0-255) en HSV (tuple 0-255).\"\"\"\n",
    "    img = Image.new(\"RGB\", (1, 1), rgb)  # Créer une image 1x1 avec la couleur\n",
    "    hsv = img.convert(\"HSV\").getpixel((0, 0))  # Convertir et récupérer HSV\n",
    "    return hsv  # (H, S, V)\n",
    "\n",
    "def sort_colors_by_hue_pillow(rgb_colors):\n",
    "    \"\"\"Trie une liste de couleurs RGB en fonction de la teinte HSV.\"\"\"\n",
    "    return sorted(rgb_colors, key=lambda color: rgb_to_hsv_pillow(color)[0])\n"
   ]
  }
 ],
 "metadata": {
  "kernelspec": {
   "display_name": "Python [conda env:base] *",
   "language": "python",
   "name": "conda-base-py"
  },
  "language_info": {
   "codemirror_mode": {
    "name": "ipython",
    "version": 3
   },
   "file_extension": ".py",
   "mimetype": "text/x-python",
   "name": "python",
   "nbconvert_exporter": "python",
   "pygments_lexer": "ipython3",
   "version": "3.12.7"
  }
 },
 "nbformat": 4,
 "nbformat_minor": 5
}
