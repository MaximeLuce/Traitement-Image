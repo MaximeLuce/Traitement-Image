{
 "cells": [
  {
   "cell_type": "markdown",
   "id": "79e06f26-abe3-4091-ac45-5f2f8bae5f3e",
   "metadata": {},
   "source": [
    "NAME:"
   ]
  },
  {
   "cell_type": "markdown",
   "id": "c609439d-632c-4119-b477-2bc20f88f1d8",
   "metadata": {},
   "source": [
    "<C><Large><B>INF TC1 - TD5 (2h + 2h AUTONOMIE) - Devoir à rendre #1</B></Large></C>"
   ]
  },
  {
   "cell_type": "markdown",
   "id": "ba65cb30-6df7-48dc-bffe-ffee3224c0f7",
   "metadata": {},
   "source": [
    "# Sommaire\n"
   ]
  },
  {
   "cell_type": "markdown",
   "id": "27a5a81b-c19a-4fb9-9bc5-675af31ff4f7",
   "metadata": {},
   "source": [
    "# Introduction\n",
    "\n",
    "La quantification de couleurs, ou réduction du nombre de couleurs dans une image, est une problématique centrale en traitement d’images. Elle consiste à représenter une image à l’aide d’un ensemble réduit de couleurs, tout en préservant au mieux son apparence visuelle. L’objectif de ce devoir est de mettre en œuvre un algorithme permettant de générer automatiquement une palette de couleurs optimale pour une image donnée. Cette palette devra être plus restreinte que le nombre de couleurs initialement présentes dans l’image, tout en restant la plus représentative possible de sa composition chromatique.\n",
    "\n",
    "On retrouce ce processus dans de nombreux domaines d’application : compression d’images, affichage sur des périphériques à faible capacité graphique, création de versions simplifiées d’images pour l’impression ou le web, ou encore génération automatique de palettes pour le design graphique. Il est également utilisé dans des logiciels de traitement d’image comme Photoshop, Gimp ou Paint, et plus généralement dans tous les domaines où l’on cherche à simplifier une image sans en altérer la perception.\n",
    "\n",
    "Sur le plan informatique, cette problématique soulève quelques questions algorithmiques : comment identifier les couleurs dominantes d’une image ? Comment choisir un bon compromis entre fidélité visuelle et nombre de couleurs utilisées ? Comment formaliser et mesurer la \"représentativité\" d’une palette ?\n",
    "\n",
    "Ce devoir s’inscrit dans le prolongement du TD#4, où nous avons étudié le codage des couleurs en composantes rouge, verte et bleue (RGB). Nous allons ici approfondir cette notion en mettant en œuvre un algorithme de quantification de couleurs, en utilisant notamment les outils fournis par le langage Python et le module Pillow. Ce travail permet ainsi de mieux comprendre les enjeux liés à la représentation visuelle, à l’optimisation de données et à la perception humaine des couleurs."
   ]
  },
  {
   "cell_type": "markdown",
   "id": "23c9f1c2-aa83-4f44-93da-d94f970d27ba",
   "metadata": {},
   "source": [
    "# Fonctions générales"
   ]
  },
  {
   "cell_type": "markdown",
   "id": "3e47151d-1e5b-4986-9f57-24812b4865fb",
   "metadata": {},
   "source": [
    "## Importations des modules"
   ]
  },
  {
   "cell_type": "code",
   "execution_count": 6,
   "id": "9e952682-a935-4a2d-b0b7-b87ecf977d08",
   "metadata": {},
   "outputs": [],
   "source": [
    "from math import sqrt\n",
    "import math\n",
    "from PIL import Image, ImageDraw\n",
    "from IPython.display import display\n",
    "import pandas as pd\n",
    "\n",
    "import numpy as np\n",
    "import matplotlib.pyplot as plt\n",
    "import time\n",
    "import random"
   ]
  },
  {
   "cell_type": "markdown",
   "id": "4a9f57d3-0cdf-42f7-8b03-4f390df0dc26",
   "metadata": {},
   "source": [
    "## Chargement des images avec PIL"
   ]
  },
  {
   "cell_type": "code",
   "execution_count": 7,
   "id": "da8415ed-203e-40a0-bf43-ce636a2d0618",
   "metadata": {},
   "outputs": [
    {
     "data": {
      "image/jpeg": "[encoded data removed]",
      "image/png": "[encoded data removed]",
      "text/plain": [
       "<PIL.Image.Image image mode=RGB size=254x255>"
      ]
     },
     "metadata": {},
     "output_type": "display_data"
    }
   ],
   "source": [
    "from PIL import Image\n",
    "from IPython.display import display\n",
    "\n",
    "im = Image.open(\"rainbow.png\")\n",
    "im = im.convert(\"RGB\")  # important pour bien avoir 3 couleurs\n",
    "px = im.load()         \n",
    "\n",
    "W, H = im.size          # taille de l'image\n",
    "r, g, b = px[10, 20]    # on récupère un pixel\n",
    "px[10, 21] = r, g, b    # on change un pixel\n",
    "\n",
    "#im = im.resize((W//2, H//2))\n",
    "\n",
    "display(im.resize((W//2, H//2)))             # on affiche l'image dans la cellule"
   ]
  },
  {
   "cell_type": "markdown",
   "id": "b06eaf55-d18d-4dca-a773-be5419a4468b",
   "metadata": {},
   "source": [
    "## Tri des couleurs présentes dans l'image en fonction de leur fréquence d'apparition"
   ]
  },
  {
   "cell_type": "code",
   "execution_count": 8,
   "id": "2c89d1a6-46dd-4e64-936b-5024d3a704bc",
   "metadata": {},
   "outputs": [],
   "source": [
    "# Identification de toutes les couleurs de l'image et de leur fréquence\n",
    "# Pour cela, on utilisera un dictionnaire qui stockera un tuple de couleurs pour la clé et la fréquence associée (le nombre de fois qu'on la retrouve dans l'image).\n",
    "def couleurs_presentes(im):\n",
    "    D = {}\n",
    "    W, H = im.size\n",
    "\n",
    "    # comptage des couleurs\n",
    "    for i in range(W):\n",
    "        for j in range(H):\n",
    "            r,g,b = px[i, j] # on récupère la couleur de chaque pixel\n",
    "            if (r,g,b) in D :\n",
    "                D[(r,g,b)] += 1 # si la couleur du pixel a déjà été vue dans une autre partie de l'image, on augmente sa fréquence de 1\n",
    "            else:\n",
    "                D[(r,g,b)] = 1 # sinon, on l'ajoute au dictionnaire et on fixe son nombre de vue à 1 pour commencer\n",
    "    return D"
   ]
  },
  {
   "cell_type": "code",
   "execution_count": 9,
   "id": "38d63515-f29f-4328-8624-62be96e38d17",
   "metadata": {},
   "outputs": [
    {
     "name": "stdout",
     "output_type": "stream",
     "text": [
      "Nombre de couleurs différentes présentes dans le dégradé de couleurs : 409\n"
     ]
    }
   ],
   "source": [
    "dico_couleurs = couleurs_presentes(im)\n",
    "#print(\"Couleurs présentes et fréquences d'apparition :\", dico_couleurs,\"\\n\\n\")\n",
    "\n",
    "print(\"Nombre de couleurs différentes présentes dans le dégradé de couleurs :\", len(dico_couleurs))"
   ]
  },
  {
   "cell_type": "markdown",
   "id": "1a7da2d3-0e9d-4bdd-94a9-0c21c1c095a0",
   "metadata": {},
   "source": [
    "On observe qu'il y a plusieurs centaines de couleurs présentes dans cette image de petite dimension. Seulement, certaines sont tellement proches que l'oeil humain ne sera pas capable de les distinguer. L'objectif ici est de déterminer une palette de k couleurs principalement présentes dans l'image."
   ]
  },
  {
   "cell_type": "markdown",
   "id": "427314e4-f97d-4ee1-a14e-8fca337f7bf6",
   "metadata": {},
   "source": [
    "## Affichage de la palette"
   ]
  },
  {
   "cell_type": "markdown",
   "id": "97f33693-ccf6-4377-b982-ef6728125c94",
   "metadata": {},
   "source": [
    "On commence par créer une image blanche vide que l'on divisera horizontalement en k couleurs. Ainsi, les couleurs obtenues dans le dictionnaire précédent (grâce à la fonction quantize_color) sont désormais bien visibles."
   ]
  },
  {
   "cell_type": "code",
   "execution_count": 10,
   "id": "ee515508-545c-458e-810c-3a8f3a9e8042",
   "metadata": {},
   "outputs": [],
   "source": [
    "from PIL import Image, ImageDraw\n",
    "\n",
    "def afficher_palette(palette):\n",
    "    # Dimensions de la palette qui s'affichera à l ecran\n",
    "    largeur_couleur = 500\n",
    "    hauteur = 200\n",
    "    k = len(palette)\n",
    "    largeur = largeur_couleur * k\n",
    "\n",
    "    # Création d'une image blanche\n",
    "    bandeau = Image.new(\"RGB\", (largeur, hauteur), \"white\")\n",
    "    draw = ImageDraw.Draw(bandeau)\n",
    "\n",
    "    # Remplissage avec les couleurs\n",
    "    for i, (couleur, _) in enumerate(palette):\n",
    "        x0 = i * largeur_couleur\n",
    "        x1 = x0 + largeur_couleur\n",
    "        draw.rectangle([x0, 0, x1, hauteur], fill=couleur)\n",
    "\n",
    "    display(bandeau)"
   ]
  },
  {
   "cell_type": "markdown",
   "id": "4a93bc14-353a-4c33-8753-6d4e226d0fce",
   "metadata": {},
   "source": [
    "## Génération d'une image de taille variable avec des couleurs aléatoires"
   ]
  },
  {
   "cell_type": "code",
   "execution_count": 11,
   "id": "cbdef0bd-1e1b-4b08-bf9e-ece65d91fa16",
   "metadata": {},
   "outputs": [],
   "source": [
    "# Génération d'une image de taille variable avec des couleurs aléatoires\n",
    "def genere_img(W, H):\n",
    "    img = Image.new(\"RGB\", (W, H))\n",
    "    for x in range(W):\n",
    "        for y in range(H):\n",
    "            img.putpixel((x, y), tuple(random.randint(0, 255) for _ in range(3)))\n",
    "    return img"
   ]
  },
  {
   "cell_type": "markdown",
   "id": "49a252c7-17ca-4a56-8f5d-855bd20124c5",
   "metadata": {},
   "source": [
    "## Distances"
   ]
  },
  {
   "cell_type": "markdown",
   "id": "8c7f8242-4f85-432f-9f26-b691f680ed05",
   "metadata": {},
   "source": [
    "Le choix de la fonction de distance entre couleurs est crucial lorsque l'on souhaite créer une palette de k couleurs à partir d'une image originale, parce que cette distance influe directement sur le rendu visuel final.\n",
    "\n",
    "La notion de distance entre couleurs peut être utilisée pour réduire le nombre de couleurs d’une image, compresser une image, segmenter une image, évaluer une tolérance ou une transparence.\n",
    "\n",
    "Dans ce devoir, nous utiliserons trois types de distance : la distance euclidienne en RGB, la distance en espace CIELAB et la distance Delta E (\\Delta E, utilisée en colorimétrie)."
   ]
  },
  {
   "cell_type": "markdown",
   "id": "4eee2364-19e2-4c87-875a-0e088a77b5c0",
   "metadata": {},
   "source": [
    "### Euclidienne\n",
    "$ d = \\sqrt{(R_1-R_2)^2 + (G_1 - G_2)^2 + (B_1-B_2)^2}$"
   ]
  },
  {
   "cell_type": "code",
   "execution_count": 12,
   "id": "f30da0a2-bc6d-43c0-a0f8-3813893a75d7",
   "metadata": {},
   "outputs": [],
   "source": [
    "from math import sqrt\n",
    "\n",
    "def distance_euclid(c1: tuple, c2: tuple) -> float:\n",
    "    (r1,g1,b1) = c1\n",
    "    (r2,g2,b2) = c2\n",
    "    return sqrt((r2-r1)**2 + (g2-g1)**2 + (b2-b1)**2)"
   ]
  },
  {
   "cell_type": "markdown",
   "id": "df952d54-d450-4264-a1fd-489c54aa25b1",
   "metadata": {},
   "source": [
    "### Distance en espace CIELAB (Lab) : $\\Delta E 76$\n",
    "\n",
    "$ \\rightarrow$ distance euclidienne entre deux couleurs dans l'espace Lab : \n",
    "$ d = \\sqrt{(L_1-L_2)^2 + (a_1 - a_2)^2 + (b_1-b_2)^2}$\n",
    "\n",
    "Recherches basées sur le cours de l'Institut d'Optique Graduate School : https://www.labri.fr/perso/granier/Cours/IOGS/color/cours1.pdf et sur l'article https://www.datacolor.com/wp-content/uploads/2023/05/color-management-ebook-4-fr.pdf pour la compréhension de l'espace de couleur CIELAB."
   ]
  },
  {
   "cell_type": "code",
   "execution_count": 13,
   "id": "8b597e92-337a-4faa-975d-6c1e9f2f468c",
   "metadata": {},
   "outputs": [],
   "source": [
    "import math\n",
    "\n",
    "\"\"\"\n",
    "ETAPE 1 : Conversion RGB en coordonnées XYZ\n",
    "\"\"\"\n",
    "\n",
    "def rgb_en_xyz(r, g, b):\n",
    "    # On commence par normaliser les composantes RGB entre 0 et 1\n",
    "    r = r / 255.0\n",
    "    g = g / 255.0\n",
    "    b = b / 255.0\n",
    "\n",
    "    # Correction gamma (inverse de la transformation sRGB)\n",
    "    def gamma(u):\n",
    "        # Si la composante est supérieure à un seuil, on applique une formule non linéaire\n",
    "        if u > 0.04045 :\n",
    "            return ((u + 0.055) / 1.055) ** 2.4\n",
    "        else :\n",
    "            u / 12.92\n",
    "\n",
    "    # Application de la correction gamma à chaque composante\n",
    "    r = gamma(r)\n",
    "    g = gamma(g)\n",
    "    b = gamma(b)\n",
    "\n",
    "    # Coefficients basés sur les normes CIE\n",
    "    x = r * 0.4124 + g * 0.3576 + b * 0.1805\n",
    "    y = r * 0.2126 + g * 0.7152 + b * 0.0722\n",
    "    z = r * 0.0193 + g * 0.1192 + b * 0.9505\n",
    "\n",
    "    return x, y, z\n",
    "\n",
    "\n",
    "\"\"\"\n",
    "ETAPE 2 : Conversion XYZ en CIELAB\n",
    "\"\"\"\n",
    "def xyz_en_lab(x, y, z):\n",
    "    \n",
    "    # Valeurs de référence du blanc D65 (illuminant standard)\n",
    "    Xn, Yn, Zn = 0.95047, 1.00000, 1.08883\n",
    "\n",
    "    # On normalise les valeurs XYZ en divisant par les valeurs de référence\n",
    "    x /= Xn\n",
    "    y /= Yn\n",
    "    z /= Zn\n",
    "\n",
    "    # Fonction f(t) utilisée pour la transformation non linéaire\n",
    "    def f(t):\n",
    "        if t > 0.008856: # Si t est suffisamment grand, on prend la racine cubique\n",
    "            return t ** (1/3)\n",
    "        else:         # Sinon, on applique une fonction affine\n",
    "            return (7.787 * t) + (16 / 116)\n",
    "\n",
    "    # Application de f(t) à chaque composante normalisée\n",
    "    fx = f(x)\n",
    "    fy = f(y)\n",
    "    fz = f(z)\n",
    "\n",
    "    # Formules finales de conversion XYZ → Lab\n",
    "    L = 116 * fy - 16      # Luminance\n",
    "    a = 500 * (fx - fy)    # Différence entre rouge et vert\n",
    "    b = 200 * (fy - fz)    # Différence entre jaune et bleu\n",
    "\n",
    "    return L, a, b  # On retourne la couleur en espace Lab\n",
    "\n",
    "\n",
    "\"\"\"\n",
    "ETAPE 3 : Conversion RGB en Lab\n",
    "\"\"\"\n",
    "def rgb_en_lab(rgb):\n",
    "    # On décompose le tuple (R, G, B)\n",
    "    x, y, z = rgb_en_xyz(*rgb)\n",
    "    # On convertit XYZ en Lab\n",
    "    return xyz_en_lab(x, y, z)\n",
    "\n",
    "\"\"\"\n",
    "ETAPE 4 : Calcul de la distance euclidienne entre deux couleurs Lab\n",
    "\"\"\"\n",
    "\n",
    "def distance_lab(rgb1, rgb2): # rgb1 de la forme px[i,j]\n",
    "    # On convertit les deux couleurs de RGB vers Lab\n",
    "    l1,a1,b1 = rgb_en_lab(rgb1)\n",
    "    l2,a2,b2 = rgb_en_lab(rgb2)\n",
    "    # On applique la formule de distance euclidienne dans l’espace Lab\n",
    "    return sqrt((l1-l2)**2 +(a1-a2)**2 + (b1-b2)**2)\n"
   ]
  },
  {
   "cell_type": "markdown",
   "id": "cf8f2d38-6228-428c-9e44-4baf601800ec",
   "metadata": {},
   "source": [
    "#### VOIR POUR OPTIMISER CET ALGO\n",
    "\n",
    "Cependant, cette distance ne tient pas compte de la sensibilité humaine aux couleurs : il surestime certaines différences (par exemple dans les bleus) et en sous-estime d'autres (dans les gris ou verts)."
   ]
  },
  {
   "cell_type": "markdown",
   "id": "28332512-1aee-49a6-ba43-ccc6e31e0ac0",
   "metadata": {},
   "source": [
    "### Distance $\\Delta E 2000$ \n",
    "\n",
    "$\\Delta E 2000$ (ou $\\Delta E00$) tient compte de la non-uniformité de Lab en introduisant une compensation sur la luminosité, la chroma (intensité de couleur) et la teinte (hue), des facteurs de pondération ainsi qu'un facteur de rotation Rt qui corrige certains effets visuels dans les bleus.\n",
    "\n",
    "La formule est $\\Delta E_{00} = \\sqrt{\n",
    "\\left(\\frac{\\Delta L'}{k_L \\cdot S_L}\\right)^2 \\!+\\! \n",
    "\\left(\\frac{\\Delta C'}{k_C \\cdot S_C}\\right)^2 \\!+\\! \n",
    "\\left(\\frac{\\Delta H'}{k_H \\cdot S_H}\\right)^2 \\!+\\! \n",
    "R_T \\cdot \\frac{\\Delta C'}{k_C \\cdot S_C} \\cdot \\frac{\\Delta H'}{k_H \\cdot S_H}\n",
    "}\n",
    "$.\n",
    "\n",
    "Les formules utilisées dans le code suivant sont tirées de cet article : https://www.normaprint.fr/blog/iso-12647-22013-deltae2000-versus-deltae76/."
   ]
  },
  {
   "cell_type": "code",
   "execution_count": 14,
   "id": "fd88a89a-dbfa-470a-91ad-d5d8262a68ab",
   "metadata": {},
   "outputs": [],
   "source": [
    "def delta_e_2000(rgb1, rgb2):\n",
    "    L1, a1, b1 = rgb_en_lab(rgb1)\n",
    "    L2, a2, b2 = rgb_en_lab(rgb2)\n",
    "\n",
    "    \"\"\"\n",
    "    Etape 1 : Moyennes et chroma\n",
    "    \"\"\"\n",
    "    moy_L = (L1 + L2) / 2\n",
    "\n",
    "    # Chroma = √(a² + b²)\n",
    "    C1 = sqrt(a1**2 + b1**2)\n",
    "    C2 = sqrt(a2**2 + b2**2)\n",
    "    moy_C = (C1 + C2) / 2\n",
    "\n",
    "    \"\"\"\n",
    "    Etape 2 : Correction chroma G (facteur de compression de la chroma pour les couleurs vives pour corriger les erreurs perceptuelles)\n",
    "    \"\"\"\n",
    "    G = 0.5 * (1 - sqrt((moy_C**7) / (moy_C**7 + 25**7)))\n",
    "\n",
    "    \"\"\"\n",
    "    Etape 3 : Nouvelles composantes qui permettent de modifier les composantes rouges/vertes (a1 et a2) pour corriger la perception\n",
    "    \"\"\"\n",
    "    a1p = (1 + G) * a1\n",
    "    a2p = (1 + G) * a2\n",
    "    C1p = sqrt(a1p**2 + b1**2)\n",
    "    C2p = sqrt(a2p**2 + b2**2)\n",
    "    moy_Cp = (C1p + C2p) / 2\n",
    "\n",
    "    \"\"\"\n",
    "    Etape 4 : Calculs d'angle de teinte h\n",
    "    \"\"\"\n",
    "    h1p = math.degrees(math.atan2(b1, a1p)) % 360\n",
    "    h2p = math.degrees(math.atan2(b2, a2p)) % 360\n",
    "\n",
    "    \"\"\"\n",
    "    Etape 5 : Différences de teinte : on utilise une distance angulaire corrigée car les teintes sont circulaires (360°)\n",
    "    \"\"\"\n",
    "    if abs(h1p - h2p) <= 180:\n",
    "        deltahp = h2p - h1p\n",
    "    elif h2p <= h1p:\n",
    "        deltahp = h2p - h1p + 360\n",
    "    else:\n",
    "        deltahp = h2p - h1p - 360\n",
    "\n",
    "    deltaHp = 2 * sqrt(C1p * C2p) * math.sin(math.radians(deltahp / 2))\n",
    "\n",
    "    \"\"\"\n",
    "    Etape 6 : Calcul de la moyenne des delta\n",
    "    \"\"\"\n",
    "    deltaLp = L2 - L1\n",
    "    deltaCp = C2p - C1p\n",
    "    moy_Lp = (L1 + L2) / 2\n",
    "\n",
    "    if abs(h1p - h2p) > 180:\n",
    "        moy_hp = (h1p + h2p + 360) / 2\n",
    "    else:\n",
    "        moy_hp = (h1p + h2p) / 2\n",
    "\n",
    "\n",
    "    \"\"\"\n",
    "    Etape 7 : Calcul des pondérations : le coefficient T ajuste la pondération de la teinte selon l'angle moyen\n",
    "    \"\"\"\n",
    "    T = 1 - 0.17 * math.cos(math.radians(moy_hp - 30)) \\\n",
    "        + 0.24 * math.cos(math.radians(2 * moy_hp)) \\\n",
    "        + 0.32 * math.cos(math.radians(3 * moy_hp + 6)) \\\n",
    "        - 0.20 * math.cos(math.radians(4 * moy_hp - 63))\n",
    "\n",
    "    \"\"\"\n",
    "    Etape 8 : Facteur de rotation Rt pour corriger une interaction chroma/teinte dans les bleus (zones sensibles à l'oeil humain)\n",
    "    \"\"\"\n",
    "    delta_theta = 30 * math.exp(-((moy_hp - 275) / 25) ** 2)\n",
    "    Rc = 2 * sqrt((moy_Cp ** 7) / (moy_Cp ** 7 + 25 ** 7))\n",
    "    Rt = -math.sin(math.radians(2 * delta_theta)) * Rc\n",
    "\n",
    "\n",
    "    \"\"\"\n",
    "    Etape 9 : Facteurs d'échelle pour normaliser les différences L, C, H selon leur importante dans la perception visuelle\n",
    "    \"\"\"\n",
    "    Sl = 1 + (0.015 * (moy_Lp - 50) ** 2) / sqrt(20 + (moy_Lp - 50) ** 2)\n",
    "    Sc = 1 + 0.045 * moy_Cp\n",
    "    Sh = 1 + 0.015 * moy_Cp * T\n",
    "\n",
    "    \"\"\"\n",
    "    Etape 10 : Calcul final de la distance\n",
    "    \"\"\"\n",
    "    deltaE = sqrt((deltaLp / Sl) ** 2 + (deltaCp / Sc) ** 2 + (deltaHp / Sh) ** 2 + Rt * (deltaCp / Sc) * (deltaHp / Sh))\n",
    "    return deltaE"
   ]
  },
  {
   "cell_type": "markdown",
   "id": "21a21995-dcb9-4199-9df2-1f1ecb31899e",
   "metadata": {},
   "source": [
    "#### Test\n"
   ]
  },
  {
   "cell_type": "code",
   "execution_count": 15,
   "id": "64658a7a-6c29-4271-9dc8-2ac6a2d21390",
   "metadata": {},
   "outputs": [
    {
     "name": "stdout",
     "output_type": "stream",
     "text": [
      "509 511\n"
     ]
    },
    {
     "ename": "IndexError",
     "evalue": "image index out of range",
     "output_type": "error",
     "traceback": [
      "\u001b[1;31m---------------------------------------------------------------------------\u001b[0m",
      "\u001b[1;31mIndexError\u001b[0m                                Traceback (most recent call last)",
      "Cell \u001b[1;32mIn[15], line 8\u001b[0m\n\u001b[0;32m      5\u001b[0m \u001b[38;5;28mprint\u001b[39m(W,H)\n\u001b[0;32m      7\u001b[0m rg1 \u001b[38;5;241m=\u001b[39m px[\u001b[38;5;241m29\u001b[39m,\u001b[38;5;241m56\u001b[39m]\n\u001b[1;32m----> 8\u001b[0m rg2 \u001b[38;5;241m=\u001b[39m px[\u001b[38;5;241m56\u001b[39m,\u001b[38;5;241m890\u001b[39m]\n\u001b[0;32m      9\u001b[0m delta_e_2000(rg1,rg2)\n",
      "\u001b[1;31mIndexError\u001b[0m: image index out of range"
     ]
    }
   ],
   "source": [
    "## Test\n",
    "im = im.convert(\"RGB\")\n",
    "px = im.load()\n",
    "W, H = im.size\n",
    "print(W,H)\n",
    "\n",
    "rg1 = px[29,56]\n",
    "rg2 = px[56,890]\n",
    "delta_e_2000(rg1,rg2)"
   ]
  },
  {
   "cell_type": "markdown",
   "id": "7e986c65-63aa-4519-b6dc-bc166331fa31",
   "metadata": {},
   "source": [
    "### Synthèse comparative des différentes distances"
   ]
  },
  {
   "cell_type": "code",
   "execution_count": 16,
   "id": "d1027e45-b72b-4321-a56c-e2c6b1a8fb0c",
   "metadata": {},
   "outputs": [
    {
     "data": {
      "text/html": [
       "<style type=\"text/css\">\n",
       "#T_7f010_row0_col0, #T_7f010_row0_col1, #T_7f010_row1_col0, #T_7f010_row1_col1, #T_7f010_row2_col0, #T_7f010_row2_col1 {\n",
       "  white-space: pre-wrap;\n",
       "}\n",
       "</style>\n",
       "<table id=\"T_7f010\">\n",
       "  <thead>\n",
       "    <tr>\n",
       "      <th class=\"blank level0\" >&nbsp;</th>\n",
       "      <th id=\"T_7f010_level0_col0\" class=\"col_heading level0 col0\" >Avantages</th>\n",
       "      <th id=\"T_7f010_level0_col1\" class=\"col_heading level0 col1\" >Inconvénients</th>\n",
       "    </tr>\n",
       "  </thead>\n",
       "  <tbody>\n",
       "    <tr>\n",
       "      <th id=\"T_7f010_level0_row0\" class=\"row_heading level0 row0\" >Distance Euclidienne en RGB</th>\n",
       "      <td id=\"T_7f010_row0_col0\" class=\"data row0 col0\" >Facile à implémenter\n",
       "Rapide à calculer</td>\n",
       "      <td id=\"T_7f010_row0_col1\" class=\"data row0 col1\" >Ne correspond pas bien à la perception humaine (on perçoit certaines différences de couleurs plus fortement que d'autres)</td>\n",
       "    </tr>\n",
       "    <tr>\n",
       "      <th id=\"T_7f010_level0_row1\" class=\"row_heading level0 row1\" >Distance DeltaE76</th>\n",
       "      <td id=\"T_7f010_row1_col0\" class=\"data row1 col0\" >Excellente qualité pour le regroupement de couleurs</td>\n",
       "      <td id=\"T_7f010_row1_col1\" class=\"data row1 col1\" >Il faut convertir chaque couleur RGB en Lab (plus coûteux)</td>\n",
       "    </tr>\n",
       "    <tr>\n",
       "      <th id=\"T_7f010_level0_row2\" class=\"row_heading level0 row2\" >Distance DeltaE00</th>\n",
       "      <td id=\"T_7f010_row2_col0\" class=\"data row2 col0\" >Précision pour juger si deux couleurs sont visuellement similaires</td>\n",
       "      <td id=\"T_7f010_row2_col1\" class=\"data row2 col1\" >Plus complexe à implémenter\n",
       "Moins intuitif</td>\n",
       "    </tr>\n",
       "  </tbody>\n",
       "</table>\n"
      ],
      "text/plain": [
       "<pandas.io.formats.style.Styler at 0x1ff1d3892e0>"
      ]
     },
     "metadata": {},
     "output_type": "display_data"
    }
   ],
   "source": [
    "\n",
    "# Création du DataFrame avec les sauts de ligne dans les chaînes\n",
    "data = {\n",
    "    \"Avantages\": [\n",
    "        \"Facile à implémenter\\nRapide à calculer\",\n",
    "        \"Excellente qualité pour le regroupement de couleurs\",\n",
    "        \"Précision pour juger si deux couleurs sont visuellement similaires\"\n",
    "    ],\n",
    "    \"Inconvénients\": [\n",
    "        \"Ne correspond pas bien à la perception humaine (on perçoit certaines différences de couleurs plus fortement que d'autres)\",\n",
    "        \"Il faut convertir chaque couleur RGB en Lab (plus coûteux)\",\n",
    "        \"Plus complexe à implémenter\\nMoins intuitif\"\n",
    "    ]\n",
    "}\n",
    "\n",
    "index = [\"Distance Euclidienne en RGB\", \"Distance DeltaE76\", \"Distance DeltaE00\"]\n",
    "\n",
    "df = pd.DataFrame(data, index=index)\n",
    "\n",
    "\n",
    "\n",
    "# Appliquer le style pour permettre les sauts de ligne visibles\n",
    "styled_df = df.style.set_properties(**{'white-space': 'pre-wrap'})\n",
    "\n",
    "# Afficher le DataFrame stylisé avec les retours à la ligne visibles\n",
    "display(styled_df)\n"
   ]
  },
  {
   "cell_type": "markdown",
   "id": "c6ac7c97-d229-4865-967a-4702f6074a73",
   "metadata": {},
   "source": [
    "## Recoloriage de l'image\n",
    "\n",
    "L'idée ici est de re-colorier une image avec notre palette de couleurs et d'afficher le résultat sous forme d'image PIL.\n",
    "Ainsi, pour re-colorier chaque pixel, on prend la couleur la plus proche dans la palette en utilisant une fonction de distance (Euclidienne pour commencer)."
   ]
  },
  {
   "cell_type": "code",
   "execution_count": 17,
   "id": "601b589a-d7e5-481f-89ec-9b1764b84902",
   "metadata": {},
   "outputs": [],
   "source": [
    "def recoloriage(img, palette, W, H, choix_distance):\n",
    "    im_recolored = Image.new(\"RGB\", (W, H))  # création de l'image en sortie\n",
    "    px_new = im_recolored.load()\n",
    "    px = img.load()\n",
    "\n",
    "    if choix_distance == distance_euclid :\n",
    "        distance_opt = 442 # distance max possible entre 2 couleurs RGB\n",
    "    \n",
    "\n",
    "    for i in range(W):\n",
    "        for j in range(H):\n",
    "            indice = 0\n",
    "            for m in range(len(palette)):\n",
    "                distance = choix_distance(palette[m][0], px[i, j])\n",
    "                if distance < distance_opt:\n",
    "                    distance_opt = distance\n",
    "                    indice = m\n",
    "            px_new[i, j] = palette[indice][0]\n",
    "\n",
    "    return im_recolored  # on retourne l'image recoloriée\n"
   ]
  },
  {
   "cell_type": "markdown",
   "id": "6299ce02-8bbf-433d-826a-26c6a788fa98",
   "metadata": {},
   "source": [
    "## Calcul du score global d'erreur"
   ]
  },
  {
   "cell_type": "code",
   "execution_count": 34,
   "id": "cfd21c0f-5986-4d6f-b53d-5cb0eaa00f34",
   "metadata": {},
   "outputs": [],
   "source": [
    "def score(image_originale, image_recoloriee, choix_distance):\n",
    "    # On récupère les élements de l'image\n",
    "    largeur, hauteur = image_originale.size\n",
    "    pixels_orig = image_originale.load()\n",
    "    pixels_reco = image_recoloriee.load()\n",
    "\n",
    "    erreur_totale = 0\n",
    "\n",
    "    # Parcours de tous les pixels de l'image\n",
    "    for i in range(largeur):\n",
    "        for j in range(hauteur):\n",
    "            couleur1 = pixels_orig[i, j]         # pixel original\n",
    "            couleur2 = pixels_reco[i, j]         # pixel recolorié\n",
    "            erreur_totale += choix_distance(couleur1, couleur2)\n",
    "\n",
    "    # Distance maximale possible entre deux couleurs RGB (du noir au blanc)\n",
    "    distance_max = 442\n",
    "\n",
    "    # Erreur moyenne par pixel\n",
    "    erreur_moyenne = erreur_totale / (largeur * hauteur)\n",
    "\n",
    "    # Erreur normalisée en pourcentage\n",
    "    pourcentage_erreur = (erreur_moyenne / distance_max) * 100\n",
    "\n",
    "    # Affichage des résultats\n",
    "    return (f\"Erreur globale totale : {erreur_totale:.2f} \\n Erreur moyenne par pixel : {erreur_moyenne:.2f} \\n Pourcentage d'erreur : {pourcentage_erreur:.2f} %\")\n"
   ]
  },
  {
   "cell_type": "markdown",
   "id": "a73b3577-a6de-4a40-b240-c81b38e94466",
   "metadata": {},
   "source": [
    "### Affichage de la différence entre les deux images\n",
    "\n",
    "On crée une image RGB représentant la différence entre l'image originale et l'image recoloriée. L'intensité du rouge est proportionnelle à l'erreur."
   ]
  },
  {
   "cell_type": "code",
   "execution_count": 35,
   "id": "1f679fa5-1870-4d4f-abfe-d5f3def0c778",
   "metadata": {},
   "outputs": [],
   "source": [
    "from PIL import Image\n",
    "\n",
    "def difference(image_originale, image_recoloriee,choix_distance):\n",
    "    largeur = min(image_originale.width, image_recoloriee.width)\n",
    "    hauteur = min(image_originale.height, image_recoloriee.height)\n",
    "\n",
    "    px_orig = image_originale.load()\n",
    "    px_reco = image_recoloriee.load()\n",
    "\n",
    "    # Nouvelle image pour visualiser l’erreur (rouge = erreur forte)\n",
    "    image_erreur = Image.new(\"RGB\", (largeur, hauteur))\n",
    "    px_error = image_erreur.load()\n",
    "\n",
    "    for i in range(largeur):\n",
    "        for j in range(hauteur):\n",
    "            c1 = px_orig[i, j]       # couleur originale\n",
    "            c2 = px_reco[i, j]       # couleur recoloriée\n",
    "            d = int(choix_distance(c1, c2))  # distance euclidienne\n",
    "            d = min(255, d)          # intensité maximale = 255\n",
    "\n",
    "            px_error[i, j] = (d, 0, 0)  # rouge = différence\n",
    "\n",
    "    return image_erreur.resize((largeur//2,hauteur//2))"
   ]
  },
  {
   "cell_type": "markdown",
   "id": "9042db50-a451-4aaa-8b0c-f822fff1bedc",
   "metadata": {},
   "source": [
    "## Complexités spatiale et temporelle\n",
    "\n",
    "Les complexités spatiale et temporelle sont des notions fondamentales en algorithmique, car elles permettent d’évaluer l’efficacité d’un algorithme. La complexité temporelle mesure le temps d’exécution en fonction de la taille des données, tandis que la complexité spatiale estime la quantité de mémoire nécessaire.\n",
    "\n",
    "Ces deux complexités permettront de comparer différents algorithmes et de choisir celui qui sera le plus adapté à notre problème, notamment lorsqu’il s’agit de traiter de grandes quantités de données (taille d'images importante) ou de respecter des contraintes de performance.\n",
    "\n",
    "### Complexite temporelle"
   ]
  },
  {
   "cell_type": "code",
   "execution_count": 36,
   "id": "faa05a4d-3fdf-4024-9af1-94899fe12f7a",
   "metadata": {},
   "outputs": [],
   "source": [
    "import numpy as np\n",
    "import matplotlib.pyplot as plt\n",
    "import time\n",
    "import random\n",
    "\n",
    "def complexite_temporelle(palette, choix_distance, nom_algo):\n",
    "    # Mesure du temps d'exécution\n",
    "    profondeur = 4\n",
    "    taille_images = [16, 32, 64, 96, 128, 160, 192, 224, 275, 300, 350, 400]\n",
    "    temps = []\n",
    "    \n",
    "    for taille in taille_images:\n",
    "        img = genere_img(taille, taille) # on prendra des images de taille carrée pour simplifier (mais le nombre de pixelx total restera inchangé que\n",
    "        # l'image soit carrée ou rectangulaire)\n",
    "        start = time.time() # départ du chronomètre\n",
    "        #recoloriage_MedianCut(img, profondeur) # on exécute notre algorithme\n",
    "        recoloriage(img, palette, taille, taille, choix_distance)\n",
    "        end = time.time() # arrêt du chronomètre\n",
    "        temps.append(end - start) # mesure de la durée totale d'exécution\n",
    "    \n",
    "    # Affichage du graphique\n",
    "    plt.figure(figsize=(10, 5))\n",
    "    nb_pixels = [x * x for x in taille_images]\n",
    "    plt.plot(nb_pixels, temps, marker='o', color='blue')\n",
    "    plt.xlabel(\"Nombre de pixels présents dans l'image\")\n",
    "    plt.ylabel(\"Temps d'exécution (en s)\")\n",
    "    plt.title(f\"Temps d'exécution de {nom_algo} en fonction de la taille de l'image\")\n",
    "    plt.grid()\n",
    "    plt.show()"
   ]
  },
  {
   "cell_type": "markdown",
   "id": "d19262bd-c10f-435b-bdf3-01285b118d7c",
   "metadata": {},
   "source": [
    "#### Test"
   ]
  },
  {
   "cell_type": "code",
   "execution_count": 37,
   "id": "01cdeeee-78cb-4930-af1d-b35e5e9cce8f",
   "metadata": {},
   "outputs": [
    {
     "data": {
      "image/png": "[encoded data removed]",
      "text/plain": [
       "<Figure size 1000x500 with 1 Axes>"
      ]
     },
     "metadata": {},
     "output_type": "display_data"
    }
   ],
   "source": [
    "palette_test=[((255, 0, 0), 22995), ((0, 255, 28), 4599), ((70, 0, 255), 4599), ((0, 255, 27), 4088), ((255, 0, 255), 3066), ((0, 255, 255), 2555), ((0, 255, 26), 2044), ((249, 255, 0), 1533)]\n",
    "complexite_temporelle(palette_test, distance_euclid,\"Algorithme naif\")"
   ]
  },
  {
   "cell_type": "markdown",
   "id": "a3ec4b41-e3f1-45f2-8273-5585cd03d74a",
   "metadata": {},
   "source": [
    "### Complexite spaciale"
   ]
  },
  {
   "cell_type": "code",
   "execution_count": 38,
   "id": "59ad5f4d-66ef-4ed1-8fb8-0b5e2c9b1786",
   "metadata": {},
   "outputs": [],
   "source": [
    "from PIL import Image\n",
    "import matplotlib.pyplot as plt\n",
    "import random\n",
    "import math\n",
    "\n",
    "def complexite_spatiale(type_algo, choix_couleurs):\n",
    "    compteur_ops = {\"median_cut\": 0, \"distance\": 0} # compteur global\n",
    "    \n",
    "    # 🔁 Mesure sur une plage large de pixels\n",
    "    profondeur = 4\n",
    "    taille_images = [16, 32, 64, 96, 128, 160, 192, 224, 275, 300, 350, 400]\n",
    "    \n",
    "    ops_median_cut = []\n",
    "    ops_distance = []\n",
    "    \n",
    "    for taille in taille_images:\n",
    "        img = genere_img(taille, taille) # on prendra des images de taille carrée pour simplifier (mais le nombre de pixelx total restera inchangé que\n",
    "        # l'image soit carrée ou rectangulaire)\n",
    "        compteur_ops = {\"median_cut\": 0, \"distance\": 0}\n",
    "        recoloriage_MedianCut(img, profondeur)\n",
    "        ops_median_cut.append(compteur_ops[\"median_cut\"])\n",
    "        ops_distance.append(compteur_ops[\"distance\"])\n",
    "    \n",
    "    # 📈 Tracé\n",
    "    plt.figure(figsize=(12, 6))\n",
    "    plt.plot(nb_pixels, ops_median_cut, label=\"Opérations Median Cut\", color='blue')\n",
    "    plt.plot(nb_pixels, ops_distance, label=\"Opérations Distance\", color='green')\n",
    "    plt.plot(nb_pixels, [n * math.log2(n + 1) for n in nb_pixels], '--', label=\"O(n log n)\", color='orange')\n",
    "    plt.plot(nb_pixels, [n**2 / 1000 for n in nb_pixels], '--', label=\"O(n²) (rescalée)\", color='red')\n",
    "    \n",
    "    plt.xlabel(\"Nombre de pixels\")\n",
    "    plt.ylabel(\"Nombre d'opérations\")\n",
    "    plt.title(\"Complexité expérimentale jusqu'à 300 000 pixels\")\n",
    "    plt.legend()\n",
    "    plt.grid(True)\n",
    "    plt.tight_layout()\n",
    "    plt.show()"
   ]
  },
  {
   "cell_type": "markdown",
   "id": "24f00177-926a-49d0-bf81-b2b3d15a5d82",
   "metadata": {},
   "source": [
    "#### Test"
   ]
  },
  {
   "cell_type": "markdown",
   "id": "e83cab2f-a529-45ba-acb8-bfeba168c5b9",
   "metadata": {},
   "source": [
    "# IMPORTANT : QUID CALCULER L ERREUR RMSE AU LIEU DE MON POURCENTAGE BIZARRE ?"
   ]
  },
  {
   "cell_type": "markdown",
   "id": "3646f6aa-22b1-4390-8016-9d571dbdf7e5",
   "metadata": {},
   "source": [
    "# Choix d'une palette de k couleurs : la méthode très naïve"
   ]
  },
  {
   "cell_type": "markdown",
   "id": "a41ab775-431d-4676-9b4e-bea0dec6d0fb",
   "metadata": {},
   "source": [
    "Tout d'abord naïvement, on peut se dire que visuellement, notre image de départ semble contenir environ 7-8 couleurs dominantes ; en partant de la gauche vers la droite : rouge, orange, jaune, vert, turquoise, bleu et violet. La première idée est de trier notre dictionnaire des couleurs présentes en fonction de la fréquence d'apparition décroissante de chaque couleur et de retenir les 7-8 couleurs majoritaires."
   ]
  },
  {
   "cell_type": "markdown",
   "id": "7fd7b6a9-2a78-4710-a0c0-f5d87b073f4a",
   "metadata": {},
   "source": [
    "## Tri des couleurs par fréquence décroissante d'apparition"
   ]
  },
  {
   "cell_type": "code",
   "execution_count": 39,
   "id": "b2730bd5-884a-4f20-97bb-caae844c0a3a",
   "metadata": {},
   "outputs": [],
   "source": [
    "couleurs_triees = sorted(dico_couleurs.items(), key=lambda item: item[1], reverse=True)\n",
    "#print(couleurs_triees)"
   ]
  },
  {
   "cell_type": "markdown",
   "id": "b64ad18a-4ce8-475c-83c8-263df8dab36c",
   "metadata": {},
   "source": [
    "## Sélection et affichage de la palette des 8 couleurs prépondérantes"
   ]
  },
  {
   "cell_type": "code",
   "execution_count": 63,
   "id": "efcb04de-e3f5-4864-9c50-6b812e5992b3",
   "metadata": {},
   "outputs": [],
   "source": [
    "palette_naive = couleurs_triees[0:8]"
   ]
  },
  {
   "cell_type": "code",
   "execution_count": 64,
   "id": "44c293ef-6a5f-4fdb-9117-a3bd3543c3f8",
   "metadata": {},
   "outputs": [
    {
     "ename": "ValueError",
     "evalue": "too many values to unpack (expected 2)",
     "output_type": "error",
     "traceback": [
      "\u001b[1;31m---------------------------------------------------------------------------\u001b[0m",
      "\u001b[1;31mValueError\u001b[0m                                Traceback (most recent call last)",
      "Cell \u001b[1;32mIn[64], line 1\u001b[0m\n\u001b[1;32m----> 1\u001b[0m afficher_palette(palette_naive)\n",
      "Cell \u001b[1;32mIn[26], line 15\u001b[0m, in \u001b[0;36mafficher_palette\u001b[1;34m(palette)\u001b[0m\n\u001b[0;32m     12\u001b[0m draw \u001b[38;5;241m=\u001b[39m ImageDraw\u001b[38;5;241m.\u001b[39mDraw(bandeau)\n\u001b[0;32m     14\u001b[0m \u001b[38;5;66;03m# Remplissage avec les couleurs\u001b[39;00m\n\u001b[1;32m---> 15\u001b[0m \u001b[38;5;28;01mfor\u001b[39;00m i, (couleur, _) \u001b[38;5;129;01min\u001b[39;00m \u001b[38;5;28menumerate\u001b[39m(palette):\n\u001b[0;32m     16\u001b[0m     x0 \u001b[38;5;241m=\u001b[39m i \u001b[38;5;241m*\u001b[39m largeur_couleur\n\u001b[0;32m     17\u001b[0m     x1 \u001b[38;5;241m=\u001b[39m x0 \u001b[38;5;241m+\u001b[39m largeur_couleur\n",
      "\u001b[1;31mValueError\u001b[0m: too many values to unpack (expected 2)"
     ]
    }
   ],
   "source": [
    "\n",
    "afficher_palette(palette_naive)\n",
    "#print(\"Palette naïve de k couleurs :\", palette_naive)"
   ]
  },
  {
   "cell_type": "markdown",
   "id": "0c0ce58a-4a4e-42a2-9bcc-20526423b60f",
   "metadata": {},
   "source": [
    "Remarquons que si une couleur est très présente dans une image (le vert ici), la palette ne présentera pas une grande variété de couleurs."
   ]
  },
  {
   "cell_type": "code",
   "execution_count": 42,
   "id": "2f967c48-4d71-40e1-9d4d-1e2e4dbff78c",
   "metadata": {},
   "outputs": [
    {
     "data": {
      "image/jpeg": "[encoded data removed]",
      "image/png": "[encoded data removed]",
      "text/plain": [
       "<PIL.Image.Image image mode=RGB size=254x255>"
      ]
     },
     "metadata": {},
     "output_type": "display_data"
    }
   ],
   "source": [
    "# On affiche notre image recoloriée, en réduisant ses dimensions par deux\n",
    "img_recoloriee = recoloriage(im,palette_naive,W,H,distance_euclid)\n",
    "display(img_recoloriee.resize((W//2,H//2)))"
   ]
  },
  {
   "cell_type": "markdown",
   "id": "b4ea5ddc-fe9c-4d9a-a78a-b5c70c3645da",
   "metadata": {},
   "source": [
    "Nous retrouvons 6 des 7-8 couleurs principales de l'image. En augmentant le nombre de couleurs présentes dans notre palette, on remarque ci-dessous que la couleur verte est toujours très présente dans notre palette et qu'elle masque d'autres couleurs qui seraient davantage pertinentes à prendre en compte."
   ]
  },
  {
   "cell_type": "markdown",
   "id": "9d1645d9-d626-44d3-8b03-5707efbefc63",
   "metadata": {},
   "source": [
    "## Méthode de validation de notre approche\n",
    "\n",
    "Afin de valider (ou non) notre méthode naïve, nous calculerons dans cette partie l'erreur globale entre l'image originale et l'image recoloriée avant de visualiser la différence en affichant une image des erreurs."
   ]
  },
  {
   "cell_type": "code",
   "execution_count": 43,
   "id": "354e39a3-511a-48c7-88ea-9f608610af2e",
   "metadata": {},
   "outputs": [
    {
     "data": {
      "text/plain": [
       "\"Erreur globale totale : 11541133.57 \\n Erreur moyenne par pixel : 44.37 \\n Pourcentage d'erreur : 10.04 %\""
      ]
     },
     "execution_count": 43,
     "metadata": {},
     "output_type": "execute_result"
    }
   ],
   "source": [
    "score(im,img_recoloriee,distance_euclid)"
   ]
  },
  {
   "cell_type": "code",
   "execution_count": 44,
   "id": "b4b63bda-315b-4d74-89b1-296460bfa4ad",
   "metadata": {},
   "outputs": [
    {
     "data": {
      "image/jpeg": "[encoded data removed]",
      "image/png": "[encoded data removed]",
      "text/plain": [
       "<PIL.Image.Image image mode=RGB size=254x255>"
      ]
     },
     "execution_count": 44,
     "metadata": {},
     "output_type": "execute_result"
    }
   ],
   "source": [
    "# On affiche notre image des erreurs : plus c'est rouge et plus notre recoloriage est mauvais dans cet endroit\n",
    "difference(im,img_recoloriee,distance_euclid)"
   ]
  },
  {
   "cell_type": "markdown",
   "id": "a2946441-5062-4b4e-b37d-3ec9c269dfe5",
   "metadata": {},
   "source": [
    "Remarquons que les erreurs sont concentrées au niveau des transitions entre les couleurs, c'est-à-dire là où le dégradé de couleur est le plus fort dans l'image originale.\n",
    "\n",
    "L'objectif de la suite de ce travail est de minimiser cette erreur afin de reconstituer une image la plus fidèle possible pour l'utilisateur. Une première idée peut être d'augmenter le nombre de couleurs disponibles dans la palette pour le recoloriage."
   ]
  },
  {
   "cell_type": "markdown",
   "id": "6547f2a2-28f5-421c-9b8d-7ac00762f7f9",
   "metadata": {},
   "source": [
    "## Quid augmenter le nombre de k couleurs arbitrairement ?"
   ]
  },
  {
   "cell_type": "code",
   "execution_count": 45,
   "id": "7a155a09-a452-4107-b0e8-f0ad07a1cfd7",
   "metadata": {},
   "outputs": [
    {
     "data": {
      "image/jpeg": "[encoded data removed]",
      "image/png": "[encoded data removed]",
      "text/plain": [
       "<PIL.Image.Image image mode=RGB size=15000x200>"
      ]
     },
     "metadata": {},
     "output_type": "display_data"
    },
    {
     "data": {
      "image/jpeg": "[encoded data removed]",
      "image/png": "[encoded data removed]",
      "text/plain": [
       "<PIL.Image.Image image mode=RGB size=254x255>"
      ]
     },
     "metadata": {},
     "output_type": "display_data"
    }
   ],
   "source": [
    "# Définition de la nouvelle palette contenant plus de couleurs\n",
    "k = 30 # on fixe à 30 couleurs arbitrairement\n",
    "palette_naive_2 = couleurs_triees[0:k]\n",
    "afficher_palette(palette_naive_2)\n",
    "\n",
    "# On crée une nouvelle image pour afficher le résultat\n",
    "im_recoloriee = Image.new(\"RGB\", (W, H))\n",
    "\n",
    "# On recolorie notre image\n",
    "img_recoloriee = recoloriage(im,palette_naive_2,W,H,distance_euclid)\n",
    "display(img_recoloriee.resize((W//2,H//2)))"
   ]
  },
  {
   "cell_type": "markdown",
   "id": "0eb08a31-c6b4-448b-a759-3530b46469a3",
   "metadata": {},
   "source": [
    "On remarque qu'en augmentant le nombre k de couleurs disponibles dans notre palette (k=30 dans cet essai), cette image reconstituée ressemble beaucoup à la précédente. Affichons tout de même le résultat de notre méthode de validation."
   ]
  },
  {
   "cell_type": "code",
   "execution_count": 46,
   "id": "0b689589-b389-46b7-be6d-d0766ee924c5",
   "metadata": {},
   "outputs": [
    {
     "data": {
      "image/jpeg": "[encoded data removed]",
      "image/png": "[encoded data removed]",
      "text/plain": [
       "<PIL.Image.Image image mode=RGB size=254x255>"
      ]
     },
     "execution_count": 46,
     "metadata": {},
     "output_type": "execute_result"
    }
   ],
   "source": [
    "score(im,img_recoloriee,distance_euclid)\n",
    "\n",
    "# On affiche notre image des erreurs : plus c'est rouge et plus notre recoloriage est mauvais dans cet endroit\n",
    "difference(im,img_recoloriee,distance_euclid)"
   ]
  },
  {
   "cell_type": "markdown",
   "id": "afee9efc-d64b-4166-8d9d-3db0d4d16d48",
   "metadata": {},
   "source": [
    "On remarque que l'erreur est désormais inférieure à la précédente : mais les améliorations ne sont pas exceptionnelles."
   ]
  },
  {
   "cell_type": "markdown",
   "id": "f509b508-0579-41cf-9a67-29aaaa6c4ded",
   "metadata": {},
   "source": [
    "Les résultats sont très peu satisfaisants : augmenter arbitrairement le nombre de couleurs disponibles sur la palette n'est pas efficace. Il s'agira donc dans la partie suivante d'optimiser le choix de ces k couleurs en nous basant sur 3 algorithmes différents. Un autre méthode permettra de choisir le nombre k de couleurs optimales utilisées pour le re-coloriage en s'adaptant à la complexité de l'image à traiter.\n",
    "\n",
    "## Amélioration du choix des k couleurs\n",
    "\n",
    "Cette partie a pour objectif d'améliorer nos méthodes de choix des k couleurs afin de minimiser l'erreur entre l'image originale et l'image re-coloriée.\n",
    "Nous proposerons dans un premier temps 3 nouvelles méthodes afin d'optimiser ce choix : algorithme des k-moyennes (ou K-Means), algorithme du Median Cut et algorithme d'Octree, avant de nous intéresser à un algorithme des K-Means non supervisé afin de choisir le nombre k de manière optimale. Enfin, une synthèse comparée de ces 4 méthodes conclura cette partie.\n",
    "\n",
    "# Median Cut Algorithm\n",
    "\n",
    "L'objectif de cet algorithme est de réduire le nombre de couleurs en choisissant les \"meilleures\" couleurs représentatives pour créer une palette optimisée. L'idée est de regrouper les couleurs proches entre elles. Chaque groupe sera représenté par une seule couleur moyenne. POur forcer ces groupes on divise récursivement les couleurs présentes dans l'image."
   ]
  },
  {
   "cell_type": "markdown",
   "id": "a3f04d96-6837-4b8f-875a-18015556e329",
   "metadata": {},
   "source": [
    "## Algorithme"
   ]
  },
  {
   "cell_type": "code",
   "execution_count": 47,
   "id": "b3d291a1-a1c1-45a7-976e-766d4a6acea2",
   "metadata": {},
   "outputs": [],
   "source": [
    " # Algorithme de Median Cut\n",
    "\n",
    "def median_cut(image, profondeur): # prend une image en entrée et retourne une palette de couleurs sous forme de listes de tuples\n",
    "    px = image.load()\n",
    "    W, H = image.size\n",
    "    pixels = [px[x, y] for y in range(H) for x in range(W)]\n",
    "    \n",
    "    if profondeur == 0 or len(pixels) == 0: # critère d'arret de l'algorithme recursif\n",
    "        # Pour chaque groupe final, on calcule la moyenne des couleurs du groupe pour obtenir la couleur représentative\n",
    "        r = sum([p[0] for p in pixels]) // len(pixels)\n",
    "        g = sum([p[1] for p in pixels]) // len(pixels)\n",
    "        b = sum([p[2] for p in pixels]) // len(pixels)\n",
    "        return [(r, g, b)]\n",
    "\n",
    "    # On choisit le \"canal\" de couleur (R, G ou B) qui varie le plus parmi les pixels du groupe actuel\n",
    "    ranges = [(max(p[i] for p in pixels) - min(p[i] for p in pixels), i) for i in range(3)]\n",
    "    _, channel = max(ranges)\n",
    "\n",
    "    # On trie les couleurs selon cette composante (R, G ou B)\n",
    "    pixels.sort(key=lambda x: x[channel])\n",
    "    \n",
    "    # On coupe la liste au milieu pour créer deux sous listes\n",
    "    median = len(pixels) // 2\n",
    "    \n",
    "    return median_cut(pixels[:median], profondeur - 1) + median_cut(pixels[median:], profondeur - 1)"
   ]
  },
  {
   "cell_type": "code",
   "execution_count": 48,
   "id": "ff07fb3d-e9f7-4685-9b03-1424511c8ce5",
   "metadata": {},
   "outputs": [],
   "source": [
    "# On recolorie l'image avec la nouvelle palette de couleurs\n",
    "def recoloriage_MedianCut(im, profondeur):\n",
    "    px = im.load()\n",
    "    W, H = im.size\n",
    "    pixels = [px[x, y] for y in range(H) for x in range(W)] # on crée notre liste de couleurs RGB pour pouvoir ensuite l'appliquer au Median Cut\n",
    "\n",
    "    palette = median_cut(pixels, profondeur) # palette avec les 2^{profondeur} couleurs les plus représentatives\n",
    "\n",
    "    # On crée une nouvelle image recoloriée, de même dimensions que l'originale\n",
    "    new_img = Image.new(\"RGB\", im.size)\n",
    "    for y in range(H):\n",
    "        for x in range(W):\n",
    "            originale = px[x, y]\n",
    "            plus_proche = min(palette, key=lambda c: distance_euclid(originale, c)) # on cherche la couleur de la palette la plus proche de chaque pixel\n",
    "            # afin de recolorier l'image le plus fidèlement possible, fait ci-dessous\n",
    "            new_img.putpixel((x, y), plus_proche) \n",
    "\n",
    "    return new_img"
   ]
  },
  {
   "cell_type": "code",
   "execution_count": 49,
   "id": "a3562e52-b9d2-4aef-87c0-b480b48ba5ee",
   "metadata": {},
   "outputs": [
    {
     "ename": "AttributeError",
     "evalue": "'list' object has no attribute 'load'",
     "output_type": "error",
     "traceback": [
      "\u001b[1;31m---------------------------------------------------------------------------\u001b[0m",
      "\u001b[1;31mAttributeError\u001b[0m                            Traceback (most recent call last)",
      "Cell \u001b[1;32mIn[49], line 7\u001b[0m\n\u001b[0;32m      4\u001b[0m px \u001b[38;5;241m=\u001b[39m im\u001b[38;5;241m.\u001b[39mload()\n\u001b[0;32m      6\u001b[0m \u001b[38;5;66;03m# Recoloriage de l'image avec l'algorithme de Median Cut (une profondeur de n => 2^n couleurs disponibles sur la palette)\u001b[39;00m\n\u001b[1;32m----> 7\u001b[0m img_MC \u001b[38;5;241m=\u001b[39m recoloriage_MedianCut(im,\u001b[38;5;241m3\u001b[39m) \u001b[38;5;66;03m# k=8 couleurs ici, pour pouvoir comparer avec ce que nous avons fait dans la première partie\u001b[39;00m\n\u001b[0;32m      8\u001b[0m display(img_MC\u001b[38;5;241m.\u001b[39mresize((W\u001b[38;5;241m/\u001b[39m\u001b[38;5;241m/\u001b[39m\u001b[38;5;241m2\u001b[39m, H\u001b[38;5;241m/\u001b[39m\u001b[38;5;241m/\u001b[39m\u001b[38;5;241m2\u001b[39m)))\n",
      "Cell \u001b[1;32mIn[48], line 7\u001b[0m, in \u001b[0;36mrecoloriage_MedianCut\u001b[1;34m(im, profondeur)\u001b[0m\n\u001b[0;32m      4\u001b[0m W, H \u001b[38;5;241m=\u001b[39m im\u001b[38;5;241m.\u001b[39msize\n\u001b[0;32m      5\u001b[0m pixels \u001b[38;5;241m=\u001b[39m [px[x, y] \u001b[38;5;28;01mfor\u001b[39;00m y \u001b[38;5;129;01min\u001b[39;00m \u001b[38;5;28mrange\u001b[39m(H) \u001b[38;5;28;01mfor\u001b[39;00m x \u001b[38;5;129;01min\u001b[39;00m \u001b[38;5;28mrange\u001b[39m(W)] \u001b[38;5;66;03m# on crée notre liste de couleurs RGB pour pouvoir ensuite l'appliquer au Median Cut\u001b[39;00m\n\u001b[1;32m----> 7\u001b[0m palette \u001b[38;5;241m=\u001b[39m median_cut(pixels, profondeur) \u001b[38;5;66;03m# palette avec les 2^{profondeur} couleurs les plus représentatives\u001b[39;00m\n\u001b[0;32m      9\u001b[0m \u001b[38;5;66;03m# On crée une nouvelle image recoloriée, de même dimensions que l'originale\u001b[39;00m\n\u001b[0;32m     10\u001b[0m new_img \u001b[38;5;241m=\u001b[39m Image\u001b[38;5;241m.\u001b[39mnew(\u001b[38;5;124m\"\u001b[39m\u001b[38;5;124mRGB\u001b[39m\u001b[38;5;124m\"\u001b[39m, im\u001b[38;5;241m.\u001b[39msize)\n",
      "Cell \u001b[1;32mIn[47], line 4\u001b[0m, in \u001b[0;36mmedian_cut\u001b[1;34m(image, profondeur)\u001b[0m\n\u001b[0;32m      3\u001b[0m \u001b[38;5;28;01mdef\u001b[39;00m \u001b[38;5;21mmedian_cut\u001b[39m(image, profondeur): \u001b[38;5;66;03m# prend une image en entrée et retourne une palette de couleurs sous forme de listes de tuples\u001b[39;00m\n\u001b[1;32m----> 4\u001b[0m    px \u001b[38;5;241m=\u001b[39m image\u001b[38;5;241m.\u001b[39mload()\n\u001b[0;32m      5\u001b[0m    W, H \u001b[38;5;241m=\u001b[39m image\u001b[38;5;241m.\u001b[39msize\n\u001b[0;32m      6\u001b[0m    pixels \u001b[38;5;241m=\u001b[39m [px[x, y] \u001b[38;5;28;01mfor\u001b[39;00m y \u001b[38;5;129;01min\u001b[39;00m \u001b[38;5;28mrange\u001b[39m(H) \u001b[38;5;28;01mfor\u001b[39;00m x \u001b[38;5;129;01min\u001b[39;00m \u001b[38;5;28mrange\u001b[39m(W)]\n",
      "\u001b[1;31mAttributeError\u001b[0m: 'list' object has no attribute 'load'"
     ]
    }
   ],
   "source": [
    "# On recharge l'image\n",
    "im = Image.open(\"rainbow.png\")\n",
    "im = im.convert(\"RGB\")\n",
    "px = im.load()\n",
    "\n",
    "# Recoloriage de l'image avec l'algorithme de Median Cut (une profondeur de n => 2^n couleurs disponibles sur la palette)\n",
    "img_MC = recoloriage_MedianCut(im,3) # k=8 couleurs ici, pour pouvoir comparer avec ce que nous avons fait dans la première partie\n",
    "display(img_MC.resize((W//2, H//2)))"
   ]
  },
  {
   "cell_type": "markdown",
   "id": "80a39c1b-074c-472d-b618-325c0416c2d8",
   "metadata": {},
   "source": [
    "Conseil : tester en remplaçant \"img_MC = recoloriage_MedianCut(im,3)\" par \"img_MC = recoloriage_MedianCut(im,4)\". L'image est très jolie :)"
   ]
  },
  {
   "cell_type": "markdown",
   "id": "79f48e12-c4cf-46f1-a762-48c01b967b90",
   "metadata": {},
   "source": [
    "Commentaires ??\n",
    "\n",
    "## Méthode de validation"
   ]
  },
  {
   "cell_type": "code",
   "execution_count": null,
   "id": "32c715b7-7691-451a-8696-852fb624dd3c",
   "metadata": {},
   "outputs": [],
   "source": [
    "# On recharge la première image\n",
    "im = Image.open(\"rainbow.png\")\n",
    "im = im.convert(\"RGB\")  # important pour bien avoir 3 couleurs\n",
    "px = im.load()\n",
    "\n",
    "# On calcule le score et le pourcentage d'erreurs lors du recoloriage avec la méthode Median Cut\n",
    "score(im,img_MC)\n",
    "difference(im,img_MC)"
   ]
  },
  {
   "cell_type": "markdown",
   "id": "da310e1d-5530-4bba-94b0-2c2420e308bf",
   "metadata": {},
   "source": [
    "On remarque que le pourcentage d'erreur est plus faible que celui de la méthode naïve : le Median Cut est donc un algorithme efficace de quantification d'images."
   ]
  },
  {
   "cell_type": "markdown",
   "id": "55366612-537b-469d-a179-438675b15e4b",
   "metadata": {},
   "source": [
    "## Max : Peut-être tracer sur une plus grande amplitude d'abscisses en fonction des données \"standards\" des images (voir la taille usuelle d'une \"petite\" image, \"moyenne\" image et \"grande\" image et regarder ce que le temps d'exécution donne)."
   ]
  },
  {
   "cell_type": "code",
   "execution_count": null,
   "id": "a1ed352e-97c0-472a-bb22-d44ede9595d1",
   "metadata": {},
   "outputs": [],
   "source": [
    "\n",
    "\n"
   ]
  },
  {
   "cell_type": "markdown",
   "id": "a3efd275-04c0-453d-b76a-4f61d05cedb0",
   "metadata": {},
   "source": [
    "## Peut-être insérer ici le graphique \"Big-O complexity chart\" pour comparer ; si ce n'est pas possible, à la fin on placera ces 3-4 graphiques côte à côte et on regardera celui dont l'angle avec l'axe des abscisses et le plus faible => ce sera le meilleur en terme de complexité spatiale.\n",
    "On fera une phrase sur : en quoi la complexité sptiale est importante à prendre en compte dans ce genre d'application (= traitement d'images dans des logiciels qui vont être utilsiés par des gens qui n'ont pas forcément des ordi ultra performants)"
   ]
  },
  {
   "cell_type": "markdown",
   "id": "5677df85-0d6a-49e6-ac0c-10c1882c7107",
   "metadata": {},
   "source": [
    "# Octree Algorithm\n",
    "\n",
    "Cette partie présente l'algorithme Octree, efficace également pour quantifier les couleurs d'une image : on obtiendra une palette optimisée de k couleurs.\n",
    "Le principe de l'algorithme est le suivant :\n",
    "a) chaque pixel est inséré dans un arbre de type Octree basé sur ses composantes R, G et B ;\n",
    "b) l'arbre divise l'espace colorimétrique en cubes de plus en plus petits (\"Oct\" = jusqu'à 8 enfants par noeud) ;\n",
    "c) une fois les pixels insérés, on réduit l'arbre à k couleurs en fusionnant les noeuds les moins significatifs ;\n",
    "d) chaque pixel de l'image est ensuite recoloriée en fonction de la couleur représentée par son noeud dans l'arbre.\n",
    "\n",
    "On s'appuiera sur le TD portant sur les arbres pour coder notre fonction."
   ]
  },
  {
   "cell_type": "markdown",
   "id": "2938dbdd-b95b-4b15-a8b3-6e7791f58346",
   "metadata": {},
   "source": [
    "## Algorithme"
   ]
  },
  {
   "cell_type": "code",
   "execution_count": null,
   "id": "0d2df5f5-18e8-4560-a6e1-f43101ed7153",
   "metadata": {},
   "outputs": [],
   "source": [
    "from PIL import Image\n",
    "import numpy as np\n",
    "#from collections import defaultdict\n",
    "import matplotlib.pyplot as plt\n",
    "\n",
    "# Création d’un noeud Octree\n",
    "def creation_noeud(level):\n",
    "    return {'color_sum': np.zeros(3, dtype=np.float64),\n",
    "        'pixel_count': 0,\n",
    "        'children': [None] * 8,\n",
    "        'level': level,\n",
    "        'is_leaf': True,\n",
    "        'parent': None}\n",
    "\n",
    "# Index dans l’Octree selon le niveau (0-8)\n",
    "def index_octree(color, level):\n",
    "    shift = 7 - level\n",
    "    r = (color[0] >> shift) & 1\n",
    "    g = (color[1] >> shift) & 1\n",
    "    b = (color[2] >> shift) & 1\n",
    "    return (r << 2) | (g << 1) | b\n",
    "\n",
    "# Ajout d’une couleur dans l’arbre\n",
    "def ajout_couleur(node, color, level, reducer):\n",
    "    if level == 8:\n",
    "        node['color_sum'] += color\n",
    "        node['pixel_count'] += 1\n",
    "        return\n",
    "\n",
    "    index = index_octree(color.astype(int), level)\n",
    "\n",
    "    if node['children'][index] is None:\n",
    "        child = creation_noeud(level + 1)\n",
    "        child['parent'] = node\n",
    "        node['children'][index] = child\n",
    "        reducer[level + 1].append(child)\n",
    "        node['is_leaf'] = False\n",
    "\n",
    "    ajout_couleur(node['children'][index], color, level + 1, reducer)\n",
    "\n",
    "# Collecte récursive des feuilles \n",
    "def collecte_feuilles(node):\n",
    "    if node['is_leaf']:\n",
    "        return [node]\n",
    "    leaves = []\n",
    "    for child in node['children']:\n",
    "        if child:\n",
    "            leaves.extend(collecte_feuilles(child))\n",
    "    return leaves\n",
    "\n",
    "# Fusion des enfants vers un parent\n",
    "def fusion_enfant(node):\n",
    "    for child in node['children']:\n",
    "        if child:\n",
    "            node['color_sum'] += child['color_sum']\n",
    "            node['pixel_count'] += child['pixel_count']\n",
    "    node['children'] = [None] * 8\n",
    "    node['is_leaf'] = True\n",
    "\n",
    "# Construction de l’arbre principal\n",
    "def construction_arbre(pixels):\n",
    "    root = creation_noeud(0)\n",
    "    reducer = [[] for _ in range(9)]  # Liste des noeuds à chaque niveau\n",
    "    for color in pixels:\n",
    "        ajout_couleur(root, np.array(color), 0, reducer)\n",
    "    return root, reducer\n",
    "\n",
    "# Réduction de l’arbre jusqu’à k feuilles\n",
    "def reduction_arbre(root, reducer, k):\n",
    "    # Récupère toutes les feuilles de l’arbre\n",
    "    leaves = collecte_feuilles(root)\n",
    "    # Réduit l’arbre jusqu’à avoir au plus k feuilles\n",
    "    while len(leaves) > k:\n",
    "        for level in reversed(range(1, 9)):  # De bas en haut\n",
    "            if reducer[level]:               # S’il y a des noeuds à ce niveau\n",
    "                node = reducer[level].pop()  # Prend un noeud\n",
    "                if node['parent']:           # Si le noeud a un parent\n",
    "                    fusion_enfant(node['parent'])  # Fusionne les enfants dans le parent\n",
    "                    break\n",
    "        leaves = collecte_feuilles(root)  # Met à jour les feuilles\n",
    "    return leaves\n",
    "\n",
    "def get_palette(leaves):\n",
    "    palette = []\n",
    "    for node in leaves:\n",
    "        if node['pixel_count'] > 0:\n",
    "            avg_color = (node['color_sum'] / node['pixel_count']).astype(int)\n",
    "            palette.append(tuple(avg_color))  # Moyenne des couleurs\n",
    "    return palette\n",
    "\n",
    "def get_closest_color(color, palette):\n",
    "    # Trouve la couleur la plus proche dans la palette\n",
    "    color = np.array(color)\n",
    "    best = None\n",
    "    min_dist = float('inf')\n",
    "    for c in palette:\n",
    "        dist = distance_euclid(color, np.array(c))  # Distance euclidienne définie plus haut\n",
    "        if dist < min_dist:\n",
    "            min_dist = dist\n",
    "            best = c\n",
    "    return best\n",
    "\n",
    "def image_octree(image, k):\n",
    "    # Convertit l’image en liste de pixels\n",
    "    pixels = list(image.getdata())\n",
    "    root, reducer = construction_arbre(pixels)\n",
    "    leaves = reduction_arbre(root, reducer, k)\n",
    "    palette = get_palette(leaves)\n",
    "    new_pixels = [get_closest_color(p, palette) for p in pixels]\n",
    "    new_image = Image.new(\"RGB\", image.size)  # Nouvelle image recolorisée\n",
    "    new_image.putdata(new_pixels)\n",
    "    return new_image, palette\n",
    "\n",
    "def affiche_palette(palette, swatch_size=20):\n",
    "    # Affiche les couleurs de la palette\n",
    "    img = Image.new(\"RGB\", (swatch_size * len(palette), swatch_size))\n",
    "    for i, color in enumerate(palette):\n",
    "        for x in range(swatch_size):\n",
    "            for y in range(swatch_size):\n",
    "                img.putpixel((i * swatch_size + x, y), color)\n",
    "    return img"
   ]
  },
  {
   "cell_type": "markdown",
   "id": "b13c5ac6-9f00-4ea3-a7d3-91bc9dfc6fec",
   "metadata": {},
   "source": [
    "## Affichage des résultats"
   ]
  },
  {
   "cell_type": "code",
   "execution_count": null,
   "id": "ce3dbe12-c44b-4cf1-b3bd-2292ab857af4",
   "metadata": {},
   "outputs": [],
   "source": [
    "# on recharge '\n",
    "image_path = \"rainbow.png\"\n",
    "image = Image.open(image_path).convert('RGB')\n",
    "k = 8\n",
    "\n",
    "img_octree, palette = image_octree(image, k)\n",
    "\n",
    "# Affichage\n",
    "fig, axs = plt.subplots(1, 3, figsize=(15, 5))\n",
    "axs[0].imshow(image)\n",
    "axs[0].set_title(\"Image originale\")\n",
    "axs[0].axis('off')\n",
    "\n",
    "axs[1].imshow(img_octree)\n",
    "axs[1].set_title(f\"Image recoloriée (k={k-1})\")\n",
    "axs[1].axis('off')\n",
    "\n",
    "axs[2].imshow(affiche_palette(palette))\n",
    "axs[2].set_title(\"Palette extraite\")\n",
    "axs[2].axis('off')\n",
    "\n",
    "plt.tight_layout()\n",
    "plt.show()"
   ]
  },
  {
   "cell_type": "markdown",
   "id": "33579506-b50b-4f02-ba6a-07e23ccb0c03",
   "metadata": {},
   "source": [
    "## Méthode de validation pour Octree"
   ]
  },
  {
   "cell_type": "code",
   "execution_count": null,
   "id": "f30708e8-6f7e-4f7d-b0eb-1e4353df0604",
   "metadata": {},
   "outputs": [],
   "source": [
    "from PIL import Image\n",
    "# Chargement des deux images\n",
    "im = Image.open(\"rainbow.png\").convert(\"RGB\")\n",
    "img_octree = img_octree.convert(\"RGB\")\n",
    "\n",
    "# Calculs des erreurs\n",
    "score(im, img_octree)\n",
    "difference(im, img_octree)"
   ]
  },
  {
   "cell_type": "markdown",
   "id": "32ef6e46-20b7-46c6-a0f9-2762e473f7b1",
   "metadata": {},
   "source": [
    "Pour l'image choisie, l'algorithme Octree est moins intéressant que le Median Cut mais meilleur que la méthode naïve."
   ]
  },
  {
   "cell_type": "markdown",
   "id": "5da2cd95-15f7-4d15-986e-f6268e9c8ab7",
   "metadata": {},
   "source": [
    "# K-Means Algorithm\n",
    "\n",
    "L'algorithme des K-moyennes (ou K-Means) est très bien adapté au problème de réduction de couleurs dans une image. L'objectif de cet algorithme est le suivant : il regroupe les pixels (représentés par leur valeur RGB) en k clusters, de manière à ce que chaque cluster contienne des couleurs similaires et que la moyenne des pixels de ce groupe devienne une couleur de la palette. Une fois les k couleurs trouvées, on recolorie l’image en remplaçant chaque pixel par la couleur de la moyenne du groupe auquel il appartient.\n",
    "\n",
    "Dans la suite, on appellera \"centroïde\" la moyenne des pixels d'un même groupe."
   ]
  },
  {
   "cell_type": "code",
   "execution_count": null,
   "id": "36d09fde-a7ae-42d2-83c2-4a2639a4c12b",
   "metadata": {},
   "outputs": [],
   "source": [
    "import random\n",
    "\n",
    "# cette fonction permet de choisir aléatoirement k couleurs initiales parmi celles présentes dans l'image\n",
    "def initialisation_centroide(liste_pixels, k):\n",
    "    return [random.choice(liste_pixels) for _ in range(k)]\n",
    "\n",
    "# cette fonction permet d'affecter à chaque pixel la couleur la plus proche\n",
    "def assigner_cluster(liste_pixels, centroids):\n",
    "    clusters = [[] for _ in centroids]\n",
    "    for pixel in liste_pixels:\n",
    "        distances = [distance_euclid(pixel, centroid) for centroid in centroids]\n",
    "        indice_proche = distances.index(min(distances))\n",
    "        clusters[indice_proche].append(pixel)\n",
    "    return clusters\n",
    "\n",
    "# cette fonction permet de recalculer les centroïdes \n",
    "def recalcule_centroids(clusters):\n",
    "    centroids = []\n",
    "    for cluster in clusters:\n",
    "        if cluster:\n",
    "            r = sum(pixel[0] for pixel in cluster) // len(cluster)\n",
    "            g = sum(pixel[1] for pixel in cluster) // len(cluster)\n",
    "            b = sum(pixel[2] for pixel in cluster) // len(cluster)\n",
    "            centroids.append((r, g, b))\n",
    "        else:\n",
    "            # Cluster vide → nouveau centroïde aléatoire\n",
    "            centroids.append((random.randint(0, 255), random.randint(0, 255), random.randint(0, 255)))\n",
    "    return centroids\n",
    "\n",
    "def kmeans(image, k, max_iter=10):\n",
    "    W, H = image.size\n",
    "    pixels = image.load()\n",
    "\n",
    "    # Liste de tous les pixels de l'image\n",
    "    liste_pixels = [pixels[x, y] for y in range(H) for x in range(W)]\n",
    "\n",
    "    # Initialisation des centroïdes : on commence par choisir aléatoirement k couleurs aléatoires\n",
    "    centroids = initialisation_centroide(liste_pixels, k)\n",
    "\n",
    "    for _ in range(max_iter): # on répète la boucle jusqu'à un nombre maximum d'itérations max_iter\n",
    "        clusters = assigner_cluster(liste_pixels, centroids) # on affecte à chaque pixel la couleur la plus proche\n",
    "        new_centroids = recalcule_centroids(clusters) # on recalcule les centroïdes\n",
    "        if new_centroids == centroids:\n",
    "            break\n",
    "        centroids = new_centroids\n",
    "\n",
    "    # Création de la nouvelle image\n",
    "    new_image = Image.new(\"RGB\", (W, H))\n",
    "    new_pixels = new_image.load()\n",
    "\n",
    "    for y in range(H):\n",
    "        for x in range(W):\n",
    "            original = pixels[x, y]\n",
    "            distances = [distance_euclid(original, centroid) for centroid in centroids]\n",
    "            indice_proche = distances.index(min(distances))\n",
    "            new_pixels[x, y] = centroids[indice_proche]\n",
    "\n",
    "    return new_image, centroids\n"
   ]
  },
  {
   "cell_type": "code",
   "execution_count": null,
   "id": "881b51b1-2de2-4c8b-b153-fd1340956f9a",
   "metadata": {},
   "outputs": [],
   "source": [
    "# Chargement de l'image originale\n",
    "im = Image.open(\"rainbow.png\").convert(\"RGB\")\n",
    "px = im.load()\n",
    "\n",
    "# On applique l'algorithme deux fois et on affiche les deux images recoloriées\n",
    "k = 8  # Nombre de couleurs souhaitées (on reprend 8 pour comparer avec les algorithmes précédents)\n",
    "img_kmeans1 = kmeans(im, k)\n",
    "img_kmeans2 = kmeans(im, k)\n",
    "\n",
    "# Affichage des images\n",
    "fig, axs = plt.subplots(1, 3, figsize=(15, 5))\n",
    "axs[0].imshow(im)\n",
    "axs[0].set_title(\"Image originale\")\n",
    "axs[0].axis('off')\n",
    "\n",
    "axs[1].imshow(img_kmeans1)\n",
    "axs[1].set_title(f\"Image recoloriée (essai 1)\")\n",
    "axs[1].axis('off')\n",
    "\n",
    "axs[2].imshow(img_kmeans2)\n",
    "axs[2].set_title(f\"Image recoloriée (essai 2)\")\n",
    "axs[2].axis('off')\n",
    "\n",
    "plt.tight_layout()\n",
    "plt.show()"
   ]
  },
  {
   "cell_type": "markdown",
   "id": "7d3352f8-1553-4c2a-b123-1d9c02543490",
   "metadata": {},
   "source": [
    "L'algorithme des K-Means est intéressant pour la résolution de notre problème pour plusieurs raisons : il minimise l’erreur quadratique entre la couleur originale et la couleur approximée (celle du groupe de pixels), c’est-à-dire qu’il essaye de reconstruire l’image de la manière la plus fidèle possible, avec seulement k couleurs et il est acessible, rapide et simple à implémenter en 3D (R, G, B).\n",
    "De plus, il est non supervisé donc il se base uniquement sur l'image originale piur produire son résultat (pas de connaissances préalables).\n",
    "\n",
    "Seulement, remarquons que les deux images recoloriées sont légèrement différentes. Cela est dû au processus aléatoire d'initialisation de l'algorithme.\n",
    "Calculons alors les erreurs dans les deux cas.\n",
    "\n",
    "## Méthode de validation"
   ]
  },
  {
   "cell_type": "code",
   "execution_count": null,
   "id": "92eebaa1-da65-4d6d-8d61-c54bf374ba28",
   "metadata": {},
   "outputs": [],
   "source": [
    "im = im.convert(\"RGB\")\n",
    "px = im.load()\n",
    "W, H = im.size\n",
    "\n",
    "# image 1\n",
    "img_kmeans1 = img_kmeans1.convert(\"RGB\")\n",
    "\n",
    "# image 2\n",
    "img_kmeans2 = img_kmeans2.convert(\"RGB\")\n",
    "\n",
    "# Calculs\n",
    "print(\"essai 1 :\")\n",
    "score(im,img_kmeans1)\n",
    "print(\"\\nessai 2 :\")\n",
    "score(im,img_kmeans2)\n",
    "\n",
    "\n",
    "# Calculs et affichage des images\n",
    "fig, axs = plt.subplots(1, 2, figsize=(10, 3))\n",
    "\n",
    "axs[0].imshow(difference(im, img_kmeans1))\n",
    "axs[0].set_title(f\"Erreur (essai 1) :\")\n",
    "axs[0].axis('off')\n",
    "\n",
    "axs[1].imshow(difference(im, img_kmeans2))\n",
    "axs[1].set_title(f\"Erreur (essai 2) :\")\n",
    "axs[1].axis('off')\n",
    "\n",
    "plt.tight_layout()\n",
    "plt.show()"
   ]
  },
  {
   "cell_type": "markdown",
   "id": "8b4f45cf-88c8-4e68-b192-465b81eb7ea2",
   "metadata": {},
   "source": [
    "On remarque que les erreurs sont du même ordre de grandeur entre les deux images bien qu'elles ne soient pas situées aux mêmes endroits, ceci dû à l'initialisation aléatoire du K-Means."
   ]
  },
  {
   "cell_type": "markdown",
   "id": "63ba014a-a965-4ad4-b566-565b170cf505",
   "metadata": {},
   "source": [
    "Désormais, alors que nous avons testé et validé nos 3 nouveaux algorithmes (qui apparaissent tous trois plus efficaces que la méthode naïve) et que nous avons évalué leurs complexités spatiales et temporelles, nous allons les tester sur plusieurs types d'images (petites, moyennes, grandes, grande diversité de couleurs ou non) afin de conclure sur leurs performances respectifs et leur domaine préférentiel d'utilisation."
   ]
  },
  {
   "cell_type": "markdown",
   "id": "f90cdd85-8564-445d-87df-e5abd8a96f7e",
   "metadata": {},
   "source": [
    "# Méthode Spectrale : Fourier"
   ]
  },
  {
   "cell_type": "markdown",
   "id": "56d95705-c4fd-41a1-be08-74fb2e0b05f0",
   "metadata": {},
   "source": [
    "## Algo"
   ]
  },
  {
   "cell_type": "code",
   "execution_count": 18,
   "id": "011e681e-cc86-4db0-967d-181fe4c59573",
   "metadata": {},
   "outputs": [
    {
     "name": "stdout",
     "output_type": "stream",
     "text": [
      "[(130, 129, 126), (220, 222, 220), (23, 21, 26), (86, 74, 70), (35, 122, 205)]\n"
     ]
    }
   ],
   "source": [
    "from PIL import Image\n",
    "import numpy as np\n",
    "\n",
    "# Load image and convert to grayscale\n",
    "im = Image.open(\"lyon.PNG\").convert(\"L\")  # 'L' mode = grayscale\n",
    "W, H = im.size          # taille de l'image\n",
    "gray_array = np.array(im)\n",
    "\n",
    "# Apply 2D Fourier Transform\n",
    "f_transform = np.fft.fft2(gray_array)\n",
    "\n",
    "# Shift zero frequency component to the center\n",
    "f_shifted = np.fft.fftshift(f_transform)\n",
    "\n",
    "# Get magnitude spectrum\n",
    "magnitude_spectrum = np.abs(f_shifted)\n",
    "\n",
    "from sklearn.cluster import KMeans\n",
    "\n",
    "# Load image\n",
    "img_np = np.array(im)\n",
    "\n",
    "# Reshape image data to a 2D array of pixels (flatten)\n",
    "pixels = img_np.reshape(-1, 3)\n",
    "\n",
    "# Use KMeans to cluster into k dominant colors\n",
    "k = 5  # You can change this\n",
    "kmeans = KMeans(n_clusters=k)\n",
    "kmeans.fit(pixels)\n",
    "\n",
    "# Get the k dominant colors\n",
    "palette_fourier = [tuple(map(int, color)) for color in kmeans.cluster_centers_]\n",
    "print(palette_fourier)"
   ]
  },
  {
   "cell_type": "markdown",
   "id": "bc136e65-7653-46c3-93ee-926850886245",
   "metadata": {},
   "source": [
    "## Test\n"
   ]
  },
  {
   "cell_type": "code",
   "execution_count": 20,
   "id": "6d08ed87-3f6a-4667-9ac9-871d97d20b6e",
   "metadata": {},
   "outputs": [
    {
     "ename": "TypeError",
     "evalue": "cannot unpack non-iterable int object",
     "output_type": "error",
     "traceback": [
      "\u001b[1;31m---------------------------------------------------------------------------\u001b[0m",
      "\u001b[1;31mTypeError\u001b[0m                                 Traceback (most recent call last)",
      "Cell \u001b[1;32mIn[20], line 20\u001b[0m\n\u001b[0;32m     16\u001b[0m             px_new[i, j] \u001b[38;5;241m=\u001b[39m palette[indice]\n\u001b[0;32m     18\u001b[0m     \u001b[38;5;28;01mreturn\u001b[39;00m im_recolored  \u001b[38;5;66;03m# on retourne l'image recoloriée\u001b[39;00m\n\u001b[1;32m---> 20\u001b[0m img_recoloriee \u001b[38;5;241m=\u001b[39m recoloriage2(im,palette_fourier,W,H,distance_euclid)\n\u001b[0;32m     21\u001b[0m display(img_recoloriee\u001b[38;5;241m.\u001b[39mresize((W\u001b[38;5;241m/\u001b[39m\u001b[38;5;241m/\u001b[39m\u001b[38;5;241m2\u001b[39m,H\u001b[38;5;241m/\u001b[39m\u001b[38;5;241m/\u001b[39m\u001b[38;5;241m2\u001b[39m)))\n",
      "Cell \u001b[1;32mIn[20], line 12\u001b[0m, in \u001b[0;36mrecoloriage2\u001b[1;34m(img, palette, W, H, choix_distance)\u001b[0m\n\u001b[0;32m     10\u001b[0m indice \u001b[38;5;241m=\u001b[39m \u001b[38;5;241m0\u001b[39m\n\u001b[0;32m     11\u001b[0m \u001b[38;5;28;01mfor\u001b[39;00m m \u001b[38;5;129;01min\u001b[39;00m \u001b[38;5;28mrange\u001b[39m(\u001b[38;5;28mlen\u001b[39m(palette)):\n\u001b[1;32m---> 12\u001b[0m     distance \u001b[38;5;241m=\u001b[39m choix_distance(palette[m], px[i, j])\n\u001b[0;32m     13\u001b[0m     \u001b[38;5;28;01mif\u001b[39;00m distance \u001b[38;5;241m<\u001b[39m distance_opt:\n\u001b[0;32m     14\u001b[0m         distance_opt \u001b[38;5;241m=\u001b[39m distance\n",
      "Cell \u001b[1;32mIn[12], line 5\u001b[0m, in \u001b[0;36mdistance_euclid\u001b[1;34m(c1, c2)\u001b[0m\n\u001b[0;32m      3\u001b[0m \u001b[38;5;28;01mdef\u001b[39;00m \u001b[38;5;21mdistance_euclid\u001b[39m(c1: \u001b[38;5;28mtuple\u001b[39m, c2: \u001b[38;5;28mtuple\u001b[39m) \u001b[38;5;241m-\u001b[39m\u001b[38;5;241m>\u001b[39m \u001b[38;5;28mfloat\u001b[39m:\n\u001b[0;32m      4\u001b[0m     (r1,g1,b1) \u001b[38;5;241m=\u001b[39m c1\n\u001b[1;32m----> 5\u001b[0m     (r2,g2,b2) \u001b[38;5;241m=\u001b[39m c2\n\u001b[0;32m      6\u001b[0m     \u001b[38;5;28;01mreturn\u001b[39;00m sqrt((r2\u001b[38;5;241m-\u001b[39mr1)\u001b[38;5;241m*\u001b[39m\u001b[38;5;241m*\u001b[39m\u001b[38;5;241m2\u001b[39m \u001b[38;5;241m+\u001b[39m (g2\u001b[38;5;241m-\u001b[39mg1)\u001b[38;5;241m*\u001b[39m\u001b[38;5;241m*\u001b[39m\u001b[38;5;241m2\u001b[39m \u001b[38;5;241m+\u001b[39m (b2\u001b[38;5;241m-\u001b[39mb1)\u001b[38;5;241m*\u001b[39m\u001b[38;5;241m*\u001b[39m\u001b[38;5;241m2\u001b[39m)\n",
      "\u001b[1;31mTypeError\u001b[0m: cannot unpack non-iterable int object"
     ]
    }
   ],
   "source": [
    "from PIL import Image\n",
    "\n",
    "img_recoloriee = recoloriage(im,palette_fourier,W,H,distance_euclid)\n",
    "display(img_recoloriee.resize((W//2,H//2)))"
   ]
  },
  {
   "cell_type": "markdown",
   "id": "db1c85e0-8722-4af2-af0b-9e5ff4c6a562",
   "metadata": {},
   "source": [
    "# Synthèse 1 : comparaison des algorithmes"
   ]
  },
  {
   "cell_type": "code",
   "execution_count": null,
   "id": "2fde2d04-5205-49ad-9456-3c849f03e0b3",
   "metadata": {},
   "outputs": [],
   "source": []
  },
  {
   "cell_type": "code",
   "execution_count": null,
   "id": "0370737d-724e-4b51-bdf1-fdcdb3a14035",
   "metadata": {},
   "outputs": [],
   "source": []
  },
  {
   "cell_type": "code",
   "execution_count": null,
   "id": "aff362b3-3538-4cd4-9bf7-3855f901889d",
   "metadata": {},
   "outputs": [],
   "source": []
  },
  {
   "cell_type": "markdown",
   "id": "665662e2-4511-4272-897e-e67334ee0ebb",
   "metadata": {},
   "source": [
    "# Prétraitement des images\n",
    "\n",
    "Le prétraitement des images s'avère parfois utile afin de lisser les couleurs : il permettrait alors de choisir de meilleures couleurs représentatives.\n",
    "Dans cette partie, nous traiterons différentes méthodes et nous les appliquerons aux 3 algorithmes précédents Median Cut, Octree et K-Means, l'objectif étant de comparer les améliorations (ou détériorations) entre elles.\n",
    "\n",
    "## Flou gaussien\n",
    "\n",
    "Le principe est... + domaine d'utilisation"
   ]
  },
  {
   "cell_type": "code",
   "execution_count": null,
   "id": "b415e2a9-29cd-47c8-b991-9c76402ca7f8",
   "metadata": {},
   "outputs": [],
   "source": [
    "# On définit le noyau de flou gaussien 3x3\n",
    "gauss3 = [[2, 4, 2],\n",
    "    [1, 2, 1],\n",
    "    [2, 4, 2]]\n",
    "\n",
    "def somme_matrice(m: list = []) -> float:\n",
    "    somme = 0\n",
    "    for i in m:\n",
    "        for j in i:\n",
    "            somme += j\n",
    "    return somme\n",
    "\n",
    "def convolution(image, W: int, H: int, m: list) -> None:\n",
    "    w = len(m)\n",
    "    h = len(m[0])\n",
    "    wp = int((w - 1) / 2)\n",
    "    hp = int((h - 1) / 2)\n",
    "\n",
    "    somme_m = somme_matrice(m)\n",
    "\n",
    "    imflou = image.copy()\n",
    "    pxflou = imflou.load()\n",
    "\n",
    "    px = image.load()\n",
    "    pixels_copy = [[px[x, y] for y in range(H)] for x in range(W)]\n",
    "\n",
    "    for x in range(wp, W - wp):\n",
    "        for y in range(hp, H - hp):\n",
    "            r_sum = g_sum = b_sum = 0\n",
    "            for a in range(-wp, wp + 1):\n",
    "                for b in range(-hp, hp + 1):\n",
    "                    r, g, b_ = pixels_copy[x + a][y + b]\n",
    "                    coeff = m[a + wp][b + hp]\n",
    "                    r_sum += r * coeff\n",
    "                    g_sum += g * coeff\n",
    "                    b_sum += b_ * coeff\n",
    "            r = int(r_sum / somme_m)\n",
    "            g = int(g_sum / somme_m)\n",
    "            b = int(b_sum / somme_m)\n",
    "            pxflou[x, y] = (r, g, b)\n",
    "            \n",
    "    return imflou"
   ]
  },
  {
   "cell_type": "markdown",
   "id": "18769224-0805-423e-9c0f-2feff07da985",
   "metadata": {},
   "source": [
    "Pour tester notre flou gaussien, on choisira une image respectant certains critères : des détails fins (texte), des bords nets, des zones de contraste très élevé (noir/blanc ou couleurs très différentes) et quelques zones à faible contraste pour voir comment le flou agit selon les contextes."
   ]
  },
  {
   "cell_type": "code",
   "execution_count": null,
   "id": "4f7791e7-9a31-458d-8e4f-aefacce982f5",
   "metadata": {},
   "outputs": [],
   "source": [
    "# On ouvre l'image de test\n",
    "image = Image.open(\"test_flou_gaussien.png\").convert(\"RGB\")\n",
    "W, H = image.size\n",
    "\n",
    "# On applique le flou gaussien\n",
    "im_flou = convolution(im, W, H, gauss3)\n",
    "\n",
    "# Affichage\n",
    "fig, axs = plt.subplots(1, 2, figsize=(15, 5))\n",
    "axs[0].imshow(image)\n",
    "axs[0].set_title(\"Image originale\")\n",
    "axs[0].axis('off')\n",
    "\n",
    "axs[1].imshow(im_flou)\n",
    "axs[1].set_title(\"Image avec flou gaussien\")\n",
    "axs[1].axis('off')\n",
    "\n",
    "plt.tight_layout()\n",
    "plt.show()"
   ]
  },
  {
   "cell_type": "markdown",
   "id": "a8f77de8-3b70-491c-88e6-f9c5d894b84a",
   "metadata": {},
   "source": [
    "Notre image a bien été floutée : les bords ne sont plus très marqués, que ce soit les cercles, le texte d'essai ou le damier. Les détails de la photo sont beaucoup moins perceptibles."
   ]
  }
 ],
 "metadata": {
  "kernelspec": {
   "display_name": "Python 3 (ipykernel)",
   "language": "python",
   "name": "python3"
  },
  "language_info": {
   "codemirror_mode": {
    "name": "ipython",
    "version": 3
   },
   "file_extension": ".py",
   "mimetype": "text/x-python",
   "name": "python",
   "nbconvert_exporter": "python",
   "pygments_lexer": "ipython3",
   "version": "3.12.4"
  }
 },
 "nbformat": 4,
 "nbformat_minor": 5
}
